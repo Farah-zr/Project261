{
  "nbformat": 4,
  "nbformat_minor": 0,
  "metadata": {
    "colab": {
      "provenance": [],
      "include_colab_link": true
    },
    "kernelspec": {
      "name": "python3",
      "display_name": "Python 3"
    },
    "language_info": {
      "name": "python"
    }
  },
  "cells": [
    {
      "cell_type": "markdown",
      "metadata": {
        "id": "view-in-github",
        "colab_type": "text"
      },
      "source": [
        "<a href=\"https://colab.research.google.com/github/ghiyaa/proj261/blob/main/Models_with_one_hidden_layer.ipynb\" target=\"_parent\"><img src=\"https://colab.research.google.com/assets/colab-badge.svg\" alt=\"Open In Colab\"/></a>"
      ]
    },
    {
      "cell_type": "code",
      "execution_count": 1,
      "metadata": {
        "id": "58BeC0odC4gM"
      },
      "outputs": [],
      "source": [
        "import pandas as pd\n",
        "import numpy as np \n",
        "import matplotlib.pyplot as plt\n",
        "\n",
        "import tensorflow as tf\n",
        "from tensorflow import keras\n",
        "from keras import layers\n",
        "from keras.callbacks import EarlyStopping, ModelCheckpoint\n",
        "\n",
        "import sklearn \n",
        "from sklearn.model_selection import train_test_split\n",
        "from sklearn.preprocessing import StandardScaler\n",
        "from sklearn.metrics import classification_report, confusion_matrix"
      ]
    },
    {
      "cell_type": "code",
      "source": [
        "from google.colab import drive\n",
        "drive.mount('/content/gdrive')"
      ],
      "metadata": {
        "colab": {
          "base_uri": "https://localhost:8080/"
        },
        "id": "gKrZNd3FC-fL",
        "outputId": "8fb50019-2765-4229-875b-b254d7b4c2c7"
      },
      "execution_count": 2,
      "outputs": [
        {
          "output_type": "stream",
          "name": "stdout",
          "text": [
            "Mounted at /content/gdrive\n"
          ]
        }
      ]
    },
    {
      "cell_type": "code",
      "source": [
        "# please provide the path where HIGGS_train.csv is located\n",
        "\n",
        "df = pd.read_csv('/content/gdrive/My Drive/proj261/HIGGS_train.csv', low_memory = False, header = None)"
      ],
      "metadata": {
        "id": "8P4D4BN0EDwV"
      },
      "execution_count": 3,
      "outputs": []
    },
    {
      "cell_type": "code",
      "source": [
        "import sys\n",
        "# here provide the path where preprocessing_module is located\n",
        "sys.path.append('/content/gdrive/MyDrive/proj261/')\n",
        "\n",
        "from preprocessing_module import Preprocessing\n",
        "# Cleaning the data\n",
        "X, y = Preprocessing(df)\n",
        "print(X, y)"
      ],
      "metadata": {
        "id": "nd2OcZATHVM8",
        "colab": {
          "base_uri": "https://localhost:8080/"
        },
        "outputId": "71ad4576-fdb0-4843-9bb9-c625b85daada"
      },
      "execution_count": 16,
      "outputs": [
        {
          "output_type": "stream",
          "name": "stdout",
          "text": [
            "[260692]\n",
            "0           1.0\n",
            "1          1.75\n",
            "2         0.442\n",
            "3           1.5\n",
            "4         0.708\n",
            "5         -1.28\n",
            "6          1.13\n",
            "7         0.902\n",
            "8     -1.92E-01\n",
            "9          2.17\n",
            "10        0.562\n",
            "11        0.219\n",
            "12        0.864\n",
            "13          0.0\n",
            "14        0.492\n",
            "15        0.317\n",
            "16       -0.221\n",
            "17          NaN\n",
            "18        0.508\n",
            "19         1.45\n",
            "20         1.58\n",
            "21     0.00E+00\n",
            "22        0.718\n",
            "23         1.02\n",
            "24        0.989\n",
            "25        0.732\n",
            "26        0.266\n",
            "27        0.891\n",
            "28        0.758\n",
            "Name: 260692, dtype: object\n",
            "\"1.01\" 261026 8\n",
            "[261025]\n",
            "error 490959 21\n",
            "[261025, 490958]\n",
            "s 490960 21\n",
            "[261025, 490958, 490959]\n",
            "[[0.869 -0.635 0.226 ... 0.722 0.989 0.877]\n",
            " [0.908 0.329 0.359 ... 0.78 0.992 0.798]\n",
            " [0.799 1.47 -1.64 ... 0.803 0.866 0.78]\n",
            " ...\n",
            " [1.07 0.364 0.344 ... 0.852 0.908 0.789]\n",
            " [1.18 -0.173 -1.46 ... 0.745 0.741 0.728]\n",
            " [0.771 -0.133 -1.02 ... 0.51 1.04 0.905]] [1. 1. 1. ... 1. 1. 0.]\n"
          ]
        }
      ]
    },
    {
      "cell_type": "code",
      "source": [
        "# Split the data into training 95.07%, validation 2.43% and test 2.5% sets\n",
        "X_train, X_test, y_train, y_test = train_test_split(X, y, test_size = 0.025, random_state = 42)\n",
        "X_train, X_val, y_train, y_val   = train_test_split(X_train, y_train, test_size = 0.025, random_state = 42)\n",
        "\n",
        "# Print the shape of the training and test sets\n",
        "print(\"Training set shape:\", X_train.shape, y_train.shape)\n",
        "print(\"Test set shape:\", X_test.shape, y_test.shape)"
      ],
      "metadata": {
        "id": "NzuC88RTG8m0",
        "colab": {
          "base_uri": "https://localhost:8080/"
        },
        "outputId": "5cd2af55-cf5f-4cf4-fbac-031c31b56caf"
      },
      "execution_count": 17,
      "outputs": [
        {
          "output_type": "stream",
          "name": "stdout",
          "text": [
            "Training set shape: (570371, 28) (570371,)\n",
            "Test set shape: (15000, 28) (15000,)\n"
          ]
        }
      ]
    },
    {
      "cell_type": "code",
      "source": [
        "# Feature scaling: Standard Normalization\n",
        "\n",
        "# Create a StandardScaler object\n",
        "scaler = StandardScaler()\n",
        "\n",
        "# Fit the scaler on the training data and transform it\n",
        "X_train = scaler.fit_transform(X_train)\n",
        "# Transform the test data using the parameters learned from the training data\n",
        "X_test = scaler.transform(X_test)\n",
        "# Transform the validation data using the parameters learned from the training data\n",
        "X_val = scaler.transform(X_val)"
      ],
      "metadata": {
        "id": "YrR7M5llHHtX"
      },
      "execution_count": 18,
      "outputs": []
    },
    {
      "cell_type": "code",
      "source": [
        "# Model 1: neural networks with 1 hidden layer using RelU, without dropout and with epochs = 20\n",
        "\n",
        "# Build the model\n",
        "model = keras.Sequential([\n",
        "    layers.Dense(300, activation = 'relu', input_shape = (28,)),\n",
        "    layers.Dense(1, activation = 'sigmoid')\n",
        "])\n",
        "\n",
        "# Use early stopping as a regularization technique to avoid overfitting\n",
        "es = EarlyStopping(monitor = 'val_accuracy', mode = 'max', verbose = 1, patience = 10)\n",
        "mc = ModelCheckpoint('/content/gdrive/My Drive/best_model.h5', monitor = 'val_accuracy', mode = 'auto')\n",
        "\n",
        "# Compile the model\n",
        "model.compile(loss = 'binary_crossentropy', optimizer = 'adam', metrics = ['accuracy'])\n",
        "\n",
        "# Train the model on the training data\n",
        "history = model.fit(X_train, y_train, epochs = 20, batch_size = 2048, verbose = 1, validation_data = (X_val, y_val), callbacks = [es,mc])\n",
        "\n",
        "# Compute the training, validation, and testing accuracies of the classifier\n",
        "loss_train, accuracy_train = model.evaluate(X_train, y_train, verbose=2)\n",
        "loss_test, accuracy_test   = model.evaluate(X_test, y_test, verbose=2)\n",
        "loss_val, accuracy_val     = model.evaluate(X_val, y_val, verbose=2)\n",
        "\n",
        "print('Accuracy on train set:', accuracy_train)\n",
        "print('Accuracy on test set:', accuracy_test)\n",
        "print('Accuracy on validation set:', accuracy_val)"
      ],
      "metadata": {
        "id": "SFY5zrO7H_ol",
        "colab": {
          "base_uri": "https://localhost:8080/"
        },
        "outputId": "a9bf0728-4c50-4df8-c2ec-e7407eec06e8"
      },
      "execution_count": 20,
      "outputs": [
        {
          "output_type": "stream",
          "name": "stdout",
          "text": [
            "Epoch 1/20\n",
            "279/279 [==============================] - 5s 13ms/step - loss: 0.6156 - accuracy: 0.6617 - val_loss: 0.5986 - val_accuracy: 0.6797\n",
            "Epoch 2/20\n",
            "279/279 [==============================] - 4s 13ms/step - loss: 0.5835 - accuracy: 0.6944 - val_loss: 0.5785 - val_accuracy: 0.7003\n",
            "Epoch 3/20\n",
            "279/279 [==============================] - 4s 13ms/step - loss: 0.5688 - accuracy: 0.7066 - val_loss: 0.5679 - val_accuracy: 0.7074\n",
            "Epoch 4/20\n",
            "279/279 [==============================] - 5s 18ms/step - loss: 0.5593 - accuracy: 0.7128 - val_loss: 0.5600 - val_accuracy: 0.7155\n",
            "Epoch 5/20\n",
            "279/279 [==============================] - 4s 15ms/step - loss: 0.5518 - accuracy: 0.7179 - val_loss: 0.5546 - val_accuracy: 0.7162\n",
            "Epoch 6/20\n",
            "279/279 [==============================] - 4s 14ms/step - loss: 0.5461 - accuracy: 0.7211 - val_loss: 0.5505 - val_accuracy: 0.7200\n",
            "Epoch 7/20\n",
            "279/279 [==============================] - 5s 18ms/step - loss: 0.5413 - accuracy: 0.7241 - val_loss: 0.5488 - val_accuracy: 0.7158\n",
            "Epoch 8/20\n",
            "279/279 [==============================] - 5s 18ms/step - loss: 0.5377 - accuracy: 0.7271 - val_loss: 0.5432 - val_accuracy: 0.7221\n",
            "Epoch 9/20\n",
            "279/279 [==============================] - 4s 14ms/step - loss: 0.5341 - accuracy: 0.7290 - val_loss: 0.5402 - val_accuracy: 0.7244\n",
            "Epoch 10/20\n",
            "279/279 [==============================] - 4s 15ms/step - loss: 0.5316 - accuracy: 0.7307 - val_loss: 0.5376 - val_accuracy: 0.7262\n",
            "Epoch 11/20\n",
            "279/279 [==============================] - 5s 19ms/step - loss: 0.5291 - accuracy: 0.7323 - val_loss: 0.5353 - val_accuracy: 0.7262\n",
            "Epoch 12/20\n",
            "279/279 [==============================] - 2s 8ms/step - loss: 0.5270 - accuracy: 0.7336 - val_loss: 0.5340 - val_accuracy: 0.7273\n",
            "Epoch 13/20\n",
            "279/279 [==============================] - 2s 8ms/step - loss: 0.5254 - accuracy: 0.7349 - val_loss: 0.5322 - val_accuracy: 0.7277\n",
            "Epoch 14/20\n",
            "279/279 [==============================] - 2s 8ms/step - loss: 0.5234 - accuracy: 0.7361 - val_loss: 0.5326 - val_accuracy: 0.7278\n",
            "Epoch 15/20\n",
            "279/279 [==============================] - 2s 8ms/step - loss: 0.5222 - accuracy: 0.7368 - val_loss: 0.5288 - val_accuracy: 0.7311\n",
            "Epoch 16/20\n",
            "279/279 [==============================] - 3s 12ms/step - loss: 0.5208 - accuracy: 0.7375 - val_loss: 0.5301 - val_accuracy: 0.7271\n",
            "Epoch 17/20\n",
            "279/279 [==============================] - 3s 11ms/step - loss: 0.5197 - accuracy: 0.7383 - val_loss: 0.5283 - val_accuracy: 0.7309\n",
            "Epoch 18/20\n",
            "279/279 [==============================] - 2s 8ms/step - loss: 0.5183 - accuracy: 0.7399 - val_loss: 0.5281 - val_accuracy: 0.7301\n",
            "Epoch 19/20\n",
            "279/279 [==============================] - 2s 8ms/step - loss: 0.5175 - accuracy: 0.7405 - val_loss: 0.5268 - val_accuracy: 0.7296\n",
            "Epoch 20/20\n",
            "279/279 [==============================] - 2s 9ms/step - loss: 0.5167 - accuracy: 0.7408 - val_loss: 0.5253 - val_accuracy: 0.7307\n",
            "17825/17825 - 24s - loss: 0.5144 - accuracy: 0.7421 - 24s/epoch - 1ms/step\n",
            "469/469 - 1s - loss: 0.5182 - accuracy: 0.7426 - 594ms/epoch - 1ms/step\n",
            "458/458 - 1s - loss: 0.5253 - accuracy: 0.7307 - 574ms/epoch - 1ms/step\n",
            "Accuracy on train set: 0.7420555949211121\n",
            "Accuracy on test set: 0.7426000237464905\n",
            "Accuracy on validation set: 0.7307350635528564\n"
          ]
        }
      ]
    },
    {
      "cell_type": "code",
      "source": [
        "# Download ann_visualizer (if it doesn't already exist)\n",
        "!pip3 install ann_visualizer"
      ],
      "metadata": {
        "id": "-LMjV9bnL246",
        "colab": {
          "base_uri": "https://localhost:8080/"
        },
        "outputId": "bdda86d1-65b8-403c-ac9e-c86b461c0cde"
      },
      "execution_count": 21,
      "outputs": [
        {
          "output_type": "stream",
          "name": "stdout",
          "text": [
            "Looking in indexes: https://pypi.org/simple, https://us-python.pkg.dev/colab-wheels/public/simple/\n",
            "Collecting ann_visualizer\n",
            "  Downloading ann_visualizer-2.5.tar.gz (4.7 kB)\n",
            "  Preparing metadata (setup.py) ... \u001b[?25l\u001b[?25hdone\n",
            "Building wheels for collected packages: ann_visualizer\n",
            "  Building wheel for ann_visualizer (setup.py) ... \u001b[?25l\u001b[?25hdone\n",
            "  Created wheel for ann_visualizer: filename=ann_visualizer-2.5-py3-none-any.whl size=4179 sha256=c92e48334d7f9b0a26e43a94dbeabd731bac75f6008eb8e216cbf5672add208f\n",
            "  Stored in directory: /root/.cache/pip/wheels/2d/d8/86/67f4a249969eaaa31c6df569f4ebfa84634fae3af2c627107b\n",
            "Successfully built ann_visualizer\n",
            "Installing collected packages: ann_visualizer\n",
            "Successfully installed ann_visualizer-2.5\n"
          ]
        }
      ]
    },
    {
      "cell_type": "code",
      "source": [
        "# Visualize our neural network model\n",
        "from ann_visualizer.visualize import ann_viz\n",
        "ann_viz(model, title = \"Neural Network Model1\", view = True, filename = \"model1\")"
      ],
      "metadata": {
        "id": "xpoNcedtL8RX"
      },
      "execution_count": 22,
      "outputs": []
    },
    {
      "cell_type": "code",
      "source": [
        "# Print the model summary\n",
        "model.summary()"
      ],
      "metadata": {
        "id": "JLBCci0SSkPI",
        "colab": {
          "base_uri": "https://localhost:8080/"
        },
        "outputId": "fb9ce1b8-97c7-492a-e2f8-0d4993822b59"
      },
      "execution_count": 23,
      "outputs": [
        {
          "output_type": "stream",
          "name": "stdout",
          "text": [
            "Model: \"sequential_1\"\n",
            "_________________________________________________________________\n",
            " Layer (type)                Output Shape              Param #   \n",
            "=================================================================\n",
            " dense_2 (Dense)             (None, 300)               8700      \n",
            "                                                                 \n",
            " dense_3 (Dense)             (None, 1)                 301       \n",
            "                                                                 \n",
            "=================================================================\n",
            "Total params: 9,001\n",
            "Trainable params: 9,001\n",
            "Non-trainable params: 0\n",
            "_________________________________________________________________\n"
          ]
        }
      ]
    },
    {
      "cell_type": "code",
      "source": [
        "# Plotting training and validation losses\n",
        "print(f\"Final loss: {history.history['loss'][-1]}\")\n",
        "plt.plot(history.history['loss'])\n",
        "plt.plot(history.history['val_loss'])\n",
        "plt.title('model loss')\n",
        "plt.ylabel('loss')\n",
        "plt.xlabel('epoch')\n",
        "plt.legend(['training', 'validation'])\n",
        "plt.grid()\n",
        "plt.show()"
      ],
      "metadata": {
        "id": "wKfhIC-kSv9t",
        "colab": {
          "base_uri": "https://localhost:8080/",
          "height": 489
        },
        "outputId": "151b0be2-81b8-44f6-e748-875a5f79d093"
      },
      "execution_count": 24,
      "outputs": [
        {
          "output_type": "stream",
          "name": "stdout",
          "text": [
            "Final loss: 0.5166546106338501\n"
          ]
        },
        {
          "output_type": "display_data",
          "data": {
            "text/plain": [
              "<Figure size 640x480 with 1 Axes>"
            ],
            "image/png": "[encoded data removed]"
          },
          "metadata": {}
        }
      ]
    },
    {
      "cell_type": "code",
      "source": [
        "# Predict the class labels of the test data\n",
        "y_pred = model.predict(X_test)\n",
        "for i in range(len(y_pred)):\n",
        "  if y_pred[i] > 0.5:\n",
        "     y_pred[i] = 1\n",
        "  else:\n",
        "     y_pred[i] = 0\n",
        "\n",
        "# Display confusion matrix and classification report for the test data\n",
        "print('Classification Report:')\n",
        "print(classification_report(y_test, y_pred))\n",
        "print('Confusion Matrix:')\n",
        "print(confusion_matrix(y_test, y_pred))"
      ],
      "metadata": {
        "id": "-dqIUtnpS1pL",
        "colab": {
          "base_uri": "https://localhost:8080/"
        },
        "outputId": "806a91c1-9e18-4c6d-bf4e-842345b96a49"
      },
      "execution_count": 25,
      "outputs": [
        {
          "output_type": "stream",
          "name": "stdout",
          "text": [
            "469/469 [==============================] - 2s 4ms/step\n",
            "Classification Report:\n",
            "              precision    recall  f1-score   support\n",
            "\n",
            "         0.0       0.73      0.70      0.72      6953\n",
            "         1.0       0.75      0.78      0.76      8047\n",
            "\n",
            "    accuracy                           0.74     15000\n",
            "   macro avg       0.74      0.74      0.74     15000\n",
            "weighted avg       0.74      0.74      0.74     15000\n",
            "\n",
            "Confusion Matrix:\n",
            "[[4882 2071]\n",
            " [1790 6257]]\n"
          ]
        }
      ]
    },
    {
      "cell_type": "code",
      "source": [
        "# Model 2: neural networks with 1 hidden layer using RelU , without dropout and with epochs = 50\n",
        "\n",
        "# Build the model\n",
        "model = keras.Sequential([\n",
        "    layers.Dense(300, activation = 'relu', input_shape = (28,)),\n",
        "    layers.Dense(1, activation = 'sigmoid')\n",
        "])\n",
        "\n",
        "# Use early stopping as a regularization technique to avoid overfitting\n",
        "es = EarlyStopping(monitor = 'val_accuracy', mode = 'max', verbose = 1, patience = 10)\n",
        "mc = ModelCheckpoint('/content/gdrive/My Drive/best_model.h5', monitor = 'val_accuracy', mode = 'auto')\n",
        "\n",
        "# Compile the model\n",
        "model.compile(loss = 'binary_crossentropy', optimizer = 'adam', metrics = ['accuracy'])\n",
        "\n",
        "# Train the model on the training data\n",
        "history = model.fit(X_train, y_train, epochs = 50, batch_size = 2048, verbose = 1, validation_data = (X_val, y_val), callbacks = [es,mc])\n",
        "\n",
        "# Compute the training, validation, and testing accuracies of the classifier\n",
        "loss_train, accuracy_train = model.evaluate(X_train, y_train, verbose=2)\n",
        "loss_test, accuracy_test   = model.evaluate(X_test, y_test, verbose=2)\n",
        "loss_val, accuracy_val     = model.evaluate(X_val, y_val, verbose=2)\n",
        "\n",
        "print('Accuracy on train set:', accuracy_train)\n",
        "print('Accuracy on test set:', accuracy_test)\n",
        "print('Accuracy on validation set:', accuracy_val)"
      ],
      "metadata": {
        "id": "Zgq30HYZLKTA",
        "colab": {
          "base_uri": "https://localhost:8080/"
        },
        "outputId": "400a1b97-67c0-470e-ede4-6830f391ddf0"
      },
      "execution_count": 26,
      "outputs": [
        {
          "output_type": "stream",
          "name": "stdout",
          "text": [
            "Epoch 1/50\n",
            "279/279 [==============================] - 4s 13ms/step - loss: 0.6147 - accuracy: 0.6624 - val_loss: 0.5964 - val_accuracy: 0.6802\n",
            "Epoch 2/50\n",
            "279/279 [==============================] - 3s 10ms/step - loss: 0.5840 - accuracy: 0.6938 - val_loss: 0.5796 - val_accuracy: 0.6946\n",
            "Epoch 3/50\n",
            "279/279 [==============================] - 2s 8ms/step - loss: 0.5688 - accuracy: 0.7058 - val_loss: 0.5688 - val_accuracy: 0.7078\n",
            "Epoch 4/50\n",
            "279/279 [==============================] - 2s 8ms/step - loss: 0.5592 - accuracy: 0.7133 - val_loss: 0.5596 - val_accuracy: 0.7143\n",
            "Epoch 5/50\n",
            "279/279 [==============================] - 2s 8ms/step - loss: 0.5523 - accuracy: 0.7178 - val_loss: 0.5560 - val_accuracy: 0.7166\n",
            "Epoch 6/50\n",
            "279/279 [==============================] - 3s 10ms/step - loss: 0.5470 - accuracy: 0.7208 - val_loss: 0.5493 - val_accuracy: 0.7207\n",
            "Epoch 7/50\n",
            "279/279 [==============================] - 4s 13ms/step - loss: 0.5419 - accuracy: 0.7245 - val_loss: 0.5459 - val_accuracy: 0.7218\n",
            "Epoch 8/50\n",
            "279/279 [==============================] - 2s 8ms/step - loss: 0.5377 - accuracy: 0.7271 - val_loss: 0.5426 - val_accuracy: 0.7220\n",
            "Epoch 9/50\n",
            "279/279 [==============================] - 2s 8ms/step - loss: 0.5344 - accuracy: 0.7291 - val_loss: 0.5385 - val_accuracy: 0.7258\n",
            "Epoch 10/50\n",
            "279/279 [==============================] - 2s 8ms/step - loss: 0.5315 - accuracy: 0.7313 - val_loss: 0.5392 - val_accuracy: 0.7253\n",
            "Epoch 11/50\n",
            "279/279 [==============================] - 2s 8ms/step - loss: 0.5294 - accuracy: 0.7327 - val_loss: 0.5361 - val_accuracy: 0.7275\n",
            "Epoch 12/50\n",
            "279/279 [==============================] - 3s 12ms/step - loss: 0.5272 - accuracy: 0.7339 - val_loss: 0.5340 - val_accuracy: 0.7281\n",
            "Epoch 13/50\n",
            "279/279 [==============================] - 3s 11ms/step - loss: 0.5253 - accuracy: 0.7353 - val_loss: 0.5307 - val_accuracy: 0.7290\n",
            "Epoch 14/50\n",
            "279/279 [==============================] - 2s 8ms/step - loss: 0.5237 - accuracy: 0.7364 - val_loss: 0.5304 - val_accuracy: 0.7296\n",
            "Epoch 15/50\n",
            "279/279 [==============================] - 2s 8ms/step - loss: 0.5223 - accuracy: 0.7372 - val_loss: 0.5285 - val_accuracy: 0.7305\n",
            "Epoch 16/50\n",
            "279/279 [==============================] - 2s 8ms/step - loss: 0.5210 - accuracy: 0.7377 - val_loss: 0.5297 - val_accuracy: 0.7275\n",
            "Epoch 17/50\n",
            "279/279 [==============================] - 2s 9ms/step - loss: 0.5200 - accuracy: 0.7389 - val_loss: 0.5267 - val_accuracy: 0.7317\n",
            "Epoch 18/50\n",
            "279/279 [==============================] - 4s 13ms/step - loss: 0.5189 - accuracy: 0.7392 - val_loss: 0.5249 - val_accuracy: 0.7341\n",
            "Epoch 19/50\n",
            "279/279 [==============================] - 3s 10ms/step - loss: 0.5174 - accuracy: 0.7401 - val_loss: 0.5246 - val_accuracy: 0.7315\n",
            "Epoch 20/50\n",
            "279/279 [==============================] - 2s 8ms/step - loss: 0.5167 - accuracy: 0.7405 - val_loss: 0.5240 - val_accuracy: 0.7330\n",
            "Epoch 21/50\n",
            "279/279 [==============================] - 2s 8ms/step - loss: 0.5158 - accuracy: 0.7413 - val_loss: 0.5222 - val_accuracy: 0.7339\n",
            "Epoch 22/50\n",
            "279/279 [==============================] - 2s 8ms/step - loss: 0.5147 - accuracy: 0.7420 - val_loss: 0.5226 - val_accuracy: 0.7362\n",
            "Epoch 23/50\n",
            "279/279 [==============================] - 5s 17ms/step - loss: 0.5142 - accuracy: 0.7424 - val_loss: 0.5223 - val_accuracy: 0.7336\n",
            "Epoch 24/50\n",
            "279/279 [==============================] - 4s 16ms/step - loss: 0.5133 - accuracy: 0.7431 - val_loss: 0.5215 - val_accuracy: 0.7338\n",
            "Epoch 25/50\n",
            "279/279 [==============================] - 4s 13ms/step - loss: 0.5127 - accuracy: 0.7432 - val_loss: 0.5223 - val_accuracy: 0.7349\n",
            "Epoch 26/50\n",
            "279/279 [==============================] - 4s 14ms/step - loss: 0.5121 - accuracy: 0.7438 - val_loss: 0.5198 - val_accuracy: 0.7348\n",
            "Epoch 27/50\n",
            "279/279 [==============================] - 6s 20ms/step - loss: 0.5114 - accuracy: 0.7440 - val_loss: 0.5225 - val_accuracy: 0.7312\n",
            "Epoch 28/50\n",
            "279/279 [==============================] - 4s 14ms/step - loss: 0.5109 - accuracy: 0.7439 - val_loss: 0.5195 - val_accuracy: 0.7375\n",
            "Epoch 29/50\n",
            "279/279 [==============================] - 4s 14ms/step - loss: 0.5100 - accuracy: 0.7452 - val_loss: 0.5188 - val_accuracy: 0.7339\n",
            "Epoch 30/50\n",
            "279/279 [==============================] - 5s 18ms/step - loss: 0.5097 - accuracy: 0.7452 - val_loss: 0.5191 - val_accuracy: 0.7348\n",
            "Epoch 31/50\n",
            "279/279 [==============================] - 3s 11ms/step - loss: 0.5092 - accuracy: 0.7450 - val_loss: 0.5190 - val_accuracy: 0.7362\n",
            "Epoch 32/50\n",
            "279/279 [==============================] - 2s 8ms/step - loss: 0.5090 - accuracy: 0.7456 - val_loss: 0.5180 - val_accuracy: 0.7365\n",
            "Epoch 33/50\n",
            "279/279 [==============================] - 2s 8ms/step - loss: 0.5085 - accuracy: 0.7460 - val_loss: 0.5190 - val_accuracy: 0.7363\n",
            "Epoch 34/50\n",
            "279/279 [==============================] - 2s 8ms/step - loss: 0.5077 - accuracy: 0.7465 - val_loss: 0.5169 - val_accuracy: 0.7381\n",
            "Epoch 35/50\n",
            "279/279 [==============================] - 2s 9ms/step - loss: 0.5074 - accuracy: 0.7467 - val_loss: 0.5152 - val_accuracy: 0.7387\n",
            "Epoch 36/50\n",
            "279/279 [==============================] - 4s 13ms/step - loss: 0.5071 - accuracy: 0.7471 - val_loss: 0.5167 - val_accuracy: 0.7366\n",
            "Epoch 37/50\n",
            "279/279 [==============================] - 3s 9ms/step - loss: 0.5069 - accuracy: 0.7470 - val_loss: 0.5162 - val_accuracy: 0.7371\n",
            "Epoch 38/50\n",
            "279/279 [==============================] - 2s 9ms/step - loss: 0.5064 - accuracy: 0.7475 - val_loss: 0.5156 - val_accuracy: 0.7380\n",
            "Epoch 39/50\n",
            "279/279 [==============================] - 2s 8ms/step - loss: 0.5060 - accuracy: 0.7471 - val_loss: 0.5162 - val_accuracy: 0.7374\n",
            "Epoch 40/50\n",
            "279/279 [==============================] - 2s 8ms/step - loss: 0.5058 - accuracy: 0.7475 - val_loss: 0.5162 - val_accuracy: 0.7386\n",
            "Epoch 41/50\n",
            "279/279 [==============================] - 3s 11ms/step - loss: 0.5053 - accuracy: 0.7476 - val_loss: 0.5157 - val_accuracy: 0.7382\n",
            "Epoch 42/50\n",
            "279/279 [==============================] - 4s 13ms/step - loss: 0.5049 - accuracy: 0.7481 - val_loss: 0.5156 - val_accuracy: 0.7387\n",
            "Epoch 43/50\n",
            "279/279 [==============================] - 2s 8ms/step - loss: 0.5047 - accuracy: 0.7482 - val_loss: 0.5166 - val_accuracy: 0.7384\n",
            "Epoch 44/50\n",
            "279/279 [==============================] - 3s 9ms/step - loss: 0.5046 - accuracy: 0.7482 - val_loss: 0.5164 - val_accuracy: 0.7387\n",
            "Epoch 45/50\n",
            "279/279 [==============================] - 2s 8ms/step - loss: 0.5044 - accuracy: 0.7483 - val_loss: 0.5164 - val_accuracy: 0.7372\n",
            "Epoch 45: early stopping\n",
            "17825/17825 - 24s - loss: 0.5024 - accuracy: 0.7500 - 24s/epoch - 1ms/step\n",
            "469/469 - 1s - loss: 0.5136 - accuracy: 0.7404 - 614ms/epoch - 1ms/step\n",
            "458/458 - 1s - loss: 0.5164 - accuracy: 0.7372 - 579ms/epoch - 1ms/step\n",
            "Accuracy on train set: 0.7500118613243103\n",
            "Accuracy on test set: 0.7404000163078308\n",
            "Accuracy on validation set: 0.7371624112129211\n"
          ]
        }
      ]
    },
    {
      "cell_type": "code",
      "source": [
        "# Visualize our neural network model\n",
        "from ann_visualizer.visualize import ann_viz\n",
        "ann_viz(model, title = \"Neural Network Model2\", view = True, filename = \"model2\")"
      ],
      "metadata": {
        "id": "DEYf9K5sL-Xb"
      },
      "execution_count": 27,
      "outputs": []
    },
    {
      "cell_type": "code",
      "source": [
        "# Print the model summary\n",
        "model.summary()"
      ],
      "metadata": {
        "id": "vLKi-UJASjba",
        "colab": {
          "base_uri": "https://localhost:8080/"
        },
        "outputId": "39a6b481-7ee8-4857-b157-b8d7b3bf40a8"
      },
      "execution_count": 28,
      "outputs": [
        {
          "output_type": "stream",
          "name": "stdout",
          "text": [
            "Model: \"sequential_2\"\n",
            "_________________________________________________________________\n",
            " Layer (type)                Output Shape              Param #   \n",
            "=================================================================\n",
            " dense_4 (Dense)             (None, 300)               8700      \n",
            "                                                                 \n",
            " dense_5 (Dense)             (None, 1)                 301       \n",
            "                                                                 \n",
            "=================================================================\n",
            "Total params: 9,001\n",
            "Trainable params: 9,001\n",
            "Non-trainable params: 0\n",
            "_________________________________________________________________\n"
          ]
        }
      ]
    },
    {
      "cell_type": "code",
      "source": [
        "# Plotting training and validation losses\n",
        "print(f\"Final loss: {history.history['loss'][-1]}\")\n",
        "plt.plot(history.history['loss'])\n",
        "plt.plot(history.history['val_loss'])\n",
        "plt.title('model loss')\n",
        "plt.ylabel('loss')\n",
        "plt.xlabel('epoch')\n",
        "plt.legend(['training', 'validation'])\n",
        "plt.grid()\n",
        "plt.show()"
      ],
      "metadata": {
        "id": "I3SppOvFSvNG",
        "colab": {
          "base_uri": "https://localhost:8080/",
          "height": 489
        },
        "outputId": "07d2bb8a-0e8c-4602-ab7a-a9bdcd299682"
      },
      "execution_count": 29,
      "outputs": [
        {
          "output_type": "stream",
          "name": "stdout",
          "text": [
            "Final loss: 0.5044113993644714\n"
          ]
        },
        {
          "output_type": "display_data",
          "data": {
            "text/plain": [
              "<Figure size 640x480 with 1 Axes>"
            ],
            "image/png": "[encoded data removed]"
          },
          "metadata": {}
        }
      ]
    },
    {
      "cell_type": "code",
      "source": [
        "# Predict the class labels of the test data\n",
        "y_pred = model.predict(X_test)\n",
        "for i in range(len(y_pred)):\n",
        "  if y_pred[i] > 0.5:\n",
        "     y_pred[i] = 1\n",
        "  else:\n",
        "     y_pred[i] = 0\n",
        "\n",
        "# Display confusion matrix and classification report for the test data\n",
        "print('Classification Report:')\n",
        "print(classification_report(y_test, y_pred))\n",
        "print('Confusion Matrix:')\n",
        "print(confusion_matrix(y_test, y_pred))"
      ],
      "metadata": {
        "id": "zCXSmzvmS02l",
        "colab": {
          "base_uri": "https://localhost:8080/"
        },
        "outputId": "5f021491-d006-455c-a550-f4c255e9ed55"
      },
      "execution_count": 30,
      "outputs": [
        {
          "output_type": "stream",
          "name": "stdout",
          "text": [
            "469/469 [==============================] - 1s 1ms/step\n",
            "Classification Report:\n",
            "              precision    recall  f1-score   support\n",
            "\n",
            "         0.0       0.72      0.72      0.72      6953\n",
            "         1.0       0.76      0.76      0.76      8047\n",
            "\n",
            "    accuracy                           0.74     15000\n",
            "   macro avg       0.74      0.74      0.74     15000\n",
            "weighted avg       0.74      0.74      0.74     15000\n",
            "\n",
            "Confusion Matrix:\n",
            "[[4990 1963]\n",
            " [1931 6116]]\n"
          ]
        }
      ]
    },
    {
      "cell_type": "code",
      "source": [
        "# Model 3: neural networks with 1 hidden layer using TanH , without dropout and with epochs = 20\n",
        "\n",
        "# Build the model\n",
        "model = keras.Sequential([\n",
        "    layers.Dense(300, activation = 'tanh', input_shape = (28,)),\n",
        "    layers.Dense(1, activation = 'sigmoid')\n",
        "])\n",
        "\n",
        "# Use early stopping as a regularization technique to avoid overfitting\n",
        "es = EarlyStopping(monitor = 'val_accuracy', mode = 'max', verbose = 1, patience = 10)\n",
        "mc = ModelCheckpoint('/content/gdrive/My Drive/best_model.h5', monitor = 'val_accuracy', mode = 'auto')\n",
        "\n",
        "# Compile the model\n",
        "model.compile(loss = 'binary_crossentropy', optimizer = 'adam', metrics = ['accuracy'])\n",
        "\n",
        "# Train the model on the training data\n",
        "history = model.fit(X_train, y_train, epochs = 20, batch_size = 2048, verbose = 1, validation_data = (X_val, y_val), callbacks = [es,mc])\n",
        "\n",
        "# Compute the training, validation, and testing accuracies of the classifier\n",
        "loss_train, accuracy_train = model.evaluate(X_train, y_train, verbose=2)\n",
        "loss_test, accuracy_test   = model.evaluate(X_test, y_test, verbose=2)\n",
        "loss_val, accuracy_val     = model.evaluate(X_val, y_val, verbose=2)\n",
        "\n",
        "print('Accuracy on train set:', accuracy_train)\n",
        "print('Accuracy on test set:', accuracy_test)\n",
        "print('Accuracy on validation set:', accuracy_val)"
      ],
      "metadata": {
        "id": "rvp1vP_TMHMb",
        "colab": {
          "base_uri": "https://localhost:8080/"
        },
        "outputId": "f6a85afd-7720-4ddc-8d39-30ffe107dc93"
      },
      "execution_count": 31,
      "outputs": [
        {
          "output_type": "stream",
          "name": "stdout",
          "text": [
            "Epoch 1/20\n",
            "279/279 [==============================] - 4s 11ms/step - loss: 0.6377 - accuracy: 0.6367 - val_loss: 0.6337 - val_accuracy: 0.6471\n",
            "Epoch 2/20\n",
            "279/279 [==============================] - 4s 14ms/step - loss: 0.6250 - accuracy: 0.6548 - val_loss: 0.6215 - val_accuracy: 0.6589\n",
            "Epoch 3/20\n",
            "279/279 [==============================] - 2s 9ms/step - loss: 0.6093 - accuracy: 0.6701 - val_loss: 0.6050 - val_accuracy: 0.6715\n",
            "Epoch 4/20\n",
            "279/279 [==============================] - 2s 9ms/step - loss: 0.5944 - accuracy: 0.6833 - val_loss: 0.5913 - val_accuracy: 0.6879\n",
            "Epoch 5/20\n",
            "279/279 [==============================] - 2s 9ms/step - loss: 0.5817 - accuracy: 0.6941 - val_loss: 0.5822 - val_accuracy: 0.6938\n",
            "Epoch 6/20\n",
            "279/279 [==============================] - 2s 8ms/step - loss: 0.5706 - accuracy: 0.7028 - val_loss: 0.5700 - val_accuracy: 0.7041\n",
            "Epoch 7/20\n",
            "279/279 [==============================] - 3s 12ms/step - loss: 0.5614 - accuracy: 0.7098 - val_loss: 0.5640 - val_accuracy: 0.7069\n",
            "Epoch 8/20\n",
            "279/279 [==============================] - 3s 11ms/step - loss: 0.5546 - accuracy: 0.7147 - val_loss: 0.5578 - val_accuracy: 0.7141\n",
            "Epoch 9/20\n",
            "279/279 [==============================] - 2s 9ms/step - loss: 0.5492 - accuracy: 0.7182 - val_loss: 0.5540 - val_accuracy: 0.7112\n",
            "Epoch 10/20\n",
            "279/279 [==============================] - 2s 9ms/step - loss: 0.5448 - accuracy: 0.7214 - val_loss: 0.5507 - val_accuracy: 0.7171\n",
            "Epoch 11/20\n",
            "279/279 [==============================] - 2s 8ms/step - loss: 0.5412 - accuracy: 0.7238 - val_loss: 0.5471 - val_accuracy: 0.7186\n",
            "Epoch 12/20\n",
            "279/279 [==============================] - 3s 10ms/step - loss: 0.5383 - accuracy: 0.7263 - val_loss: 0.5440 - val_accuracy: 0.7227\n",
            "Epoch 13/20\n",
            "279/279 [==============================] - 4s 13ms/step - loss: 0.5359 - accuracy: 0.7276 - val_loss: 0.5425 - val_accuracy: 0.7225\n",
            "Epoch 14/20\n",
            "279/279 [==============================] - 2s 9ms/step - loss: 0.5338 - accuracy: 0.7288 - val_loss: 0.5424 - val_accuracy: 0.7209\n",
            "Epoch 15/20\n",
            "279/279 [==============================] - 2s 9ms/step - loss: 0.5321 - accuracy: 0.7297 - val_loss: 0.5388 - val_accuracy: 0.7268\n",
            "Epoch 16/20\n",
            "279/279 [==============================] - 2s 9ms/step - loss: 0.5302 - accuracy: 0.7311 - val_loss: 0.5380 - val_accuracy: 0.7283\n",
            "Epoch 17/20\n",
            "279/279 [==============================] - 2s 8ms/step - loss: 0.5289 - accuracy: 0.7322 - val_loss: 0.5383 - val_accuracy: 0.7262\n",
            "Epoch 18/20\n",
            "279/279 [==============================] - 4s 13ms/step - loss: 0.5275 - accuracy: 0.7330 - val_loss: 0.5367 - val_accuracy: 0.7266\n",
            "Epoch 19/20\n",
            "279/279 [==============================] - 3s 11ms/step - loss: 0.5263 - accuracy: 0.7341 - val_loss: 0.5346 - val_accuracy: 0.7280\n",
            "Epoch 20/20\n",
            "279/279 [==============================] - 2s 9ms/step - loss: 0.5251 - accuracy: 0.7343 - val_loss: 0.5336 - val_accuracy: 0.7289\n",
            "17825/17825 - 25s - loss: 0.5246 - accuracy: 0.7352 - 25s/epoch - 1ms/step\n",
            "469/469 - 1s - loss: 0.5282 - accuracy: 0.7333 - 588ms/epoch - 1ms/step\n",
            "458/458 - 1s - loss: 0.5336 - accuracy: 0.7289 - 579ms/epoch - 1ms/step\n",
            "Accuracy on train set: 0.7351776361465454\n",
            "Accuracy on test set: 0.7332666516304016\n",
            "Accuracy on validation set: 0.7288888692855835\n"
          ]
        }
      ]
    },
    {
      "cell_type": "code",
      "source": [
        "# Visualize our neural network model\n",
        "from ann_visualizer.visualize import ann_viz\n",
        "ann_viz(model, title = \"Neural Network Model3\", view = True, filename = \"model3\")"
      ],
      "metadata": {
        "id": "cGkPwdYoMOAL"
      },
      "execution_count": 32,
      "outputs": []
    },
    {
      "cell_type": "code",
      "source": [
        "# Print the model summary\n",
        "model.summary()"
      ],
      "metadata": {
        "id": "qfslUlriShyV",
        "colab": {
          "base_uri": "https://localhost:8080/"
        },
        "outputId": "b811eccd-5e7b-4e0e-8ded-23fc094e6b52"
      },
      "execution_count": 33,
      "outputs": [
        {
          "output_type": "stream",
          "name": "stdout",
          "text": [
            "Model: \"sequential_3\"\n",
            "_________________________________________________________________\n",
            " Layer (type)                Output Shape              Param #   \n",
            "=================================================================\n",
            " dense_6 (Dense)             (None, 300)               8700      \n",
            "                                                                 \n",
            " dense_7 (Dense)             (None, 1)                 301       \n",
            "                                                                 \n",
            "=================================================================\n",
            "Total params: 9,001\n",
            "Trainable params: 9,001\n",
            "Non-trainable params: 0\n",
            "_________________________________________________________________\n"
          ]
        }
      ]
    },
    {
      "cell_type": "code",
      "source": [
        "# Plotting training and validation losses\n",
        "print(f\"Final loss: {history.history['loss'][-1]}\")\n",
        "plt.plot(history.history['loss'])\n",
        "plt.plot(history.history['val_loss'])\n",
        "plt.title('model loss')\n",
        "plt.ylabel('loss')\n",
        "plt.xlabel('epoch')\n",
        "plt.legend(['training', 'validation'])\n",
        "plt.grid()\n",
        "plt.show()"
      ],
      "metadata": {
        "id": "PBqyrt5qSuTz",
        "colab": {
          "base_uri": "https://localhost:8080/",
          "height": 489
        },
        "outputId": "bc8697d5-feda-44ef-8849-cc8f1b76ec3a"
      },
      "execution_count": 34,
      "outputs": [
        {
          "output_type": "stream",
          "name": "stdout",
          "text": [
            "Final loss: 0.5250945091247559\n"
          ]
        },
        {
          "output_type": "display_data",
          "data": {
            "text/plain": [
              "<Figure size 640x480 with 1 Axes>"
            ],
            "image/png": "[encoded data removed]"
          },
          "metadata": {}
        }
      ]
    },
    {
      "cell_type": "code",
      "source": [
        "# Predict the class labels of the test data\n",
        "y_pred = model.predict(X_test)\n",
        "for i in range(len(y_pred)):\n",
        "  if y_pred[i] > 0.5:\n",
        "     y_pred[i] = 1\n",
        "  else:\n",
        "     y_pred[i] = 0\n",
        "\n",
        "# Display confusion matrix and classification report for the test data\n",
        "print('Classification Report:')\n",
        "print(classification_report(y_test, y_pred))\n",
        "print('Confusion Matrix:')\n",
        "print(confusion_matrix(y_test, y_pred))"
      ],
      "metadata": {
        "id": "3fn7ebB6Sz6u",
        "colab": {
          "base_uri": "https://localhost:8080/"
        },
        "outputId": "a8d274a3-706b-4bff-c8cf-daea3dd7e369"
      },
      "execution_count": 35,
      "outputs": [
        {
          "output_type": "stream",
          "name": "stdout",
          "text": [
            "469/469 [==============================] - 1s 1ms/step\n",
            "Classification Report:\n",
            "              precision    recall  f1-score   support\n",
            "\n",
            "         0.0       0.71      0.71      0.71      6953\n",
            "         1.0       0.75      0.75      0.75      8047\n",
            "\n",
            "    accuracy                           0.73     15000\n",
            "   macro avg       0.73      0.73      0.73     15000\n",
            "weighted avg       0.73      0.73      0.73     15000\n",
            "\n",
            "Confusion Matrix:\n",
            "[[4945 2008]\n",
            " [1993 6054]]\n"
          ]
        }
      ]
    },
    {
      "cell_type": "code",
      "source": [
        "# Model 4: neural networks with 1 hidden layer using TanH , without dropout and with epochs = 50\n",
        "\n",
        "# Build the model\n",
        "model = keras.Sequential([\n",
        "    layers.Dense(300, activation = 'tanh', input_shape = (28,)),\n",
        "    layers.Dense(1, activation = 'sigmoid')\n",
        "])\n",
        "\n",
        "# Use early stopping as a regularization technique to avoid overfitting\n",
        "es = EarlyStopping(monitor = 'val_accuracy', mode = 'max', verbose = 1, patience = 10)\n",
        "mc = ModelCheckpoint('/content/gdrive/My Drive/best_model.h5', monitor = 'val_accuracy', mode = 'auto')\n",
        "\n",
        "# Compile the model\n",
        "model.compile(loss = 'binary_crossentropy', optimizer = 'adam', metrics = ['accuracy'])\n",
        "\n",
        "# Train the model on the training data\n",
        "history = model.fit(X_train, y_train, epochs = 50, batch_size = 2048, verbose = 1, validation_data = (X_val, y_val), callbacks = [es,mc])\n",
        "\n",
        "# Compute the training, validation, and testing accuracies of the classifier\n",
        "loss_train, accuracy_train = model.evaluate(X_train, y_train, verbose=2)\n",
        "loss_test, accuracy_test   = model.evaluate(X_test, y_test, verbose=2)\n",
        "loss_val, accuracy_val     = model.evaluate(X_val, y_val, verbose=2)\n",
        "\n",
        "print('Accuracy on train set:', accuracy_train)\n",
        "print('Accuracy on test set:', accuracy_test)\n",
        "print('Accuracy on validation set:', accuracy_val)"
      ],
      "metadata": {
        "id": "S1x11B7GMPr0",
        "colab": {
          "base_uri": "https://localhost:8080/"
        },
        "outputId": "4d65a1c2-47ae-487c-c236-62ebb3483fa8"
      },
      "execution_count": 36,
      "outputs": [
        {
          "output_type": "stream",
          "name": "stdout",
          "text": [
            "Epoch 1/50\n",
            "279/279 [==============================] - 4s 10ms/step - loss: 0.6377 - accuracy: 0.6372 - val_loss: 0.6334 - val_accuracy: 0.6462\n",
            "Epoch 2/50\n",
            "279/279 [==============================] - 4s 13ms/step - loss: 0.6250 - accuracy: 0.6553 - val_loss: 0.6213 - val_accuracy: 0.6596\n",
            "Epoch 3/50\n",
            "279/279 [==============================] - 3s 10ms/step - loss: 0.6116 - accuracy: 0.6684 - val_loss: 0.6072 - val_accuracy: 0.6732\n",
            "Epoch 4/50\n",
            "279/279 [==============================] - 2s 9ms/step - loss: 0.5980 - accuracy: 0.6804 - val_loss: 0.5952 - val_accuracy: 0.6835\n",
            "Epoch 5/50\n",
            "279/279 [==============================] - 2s 9ms/step - loss: 0.5849 - accuracy: 0.6921 - val_loss: 0.5828 - val_accuracy: 0.6952\n",
            "Epoch 6/50\n",
            "279/279 [==============================] - 2s 9ms/step - loss: 0.5731 - accuracy: 0.7018 - val_loss: 0.5712 - val_accuracy: 0.7017\n",
            "Epoch 7/50\n",
            "279/279 [==============================] - 3s 12ms/step - loss: 0.5636 - accuracy: 0.7085 - val_loss: 0.5634 - val_accuracy: 0.7099\n",
            "Epoch 8/50\n",
            "279/279 [==============================] - 3s 12ms/step - loss: 0.5561 - accuracy: 0.7137 - val_loss: 0.5572 - val_accuracy: 0.7136\n",
            "Epoch 9/50\n",
            "279/279 [==============================] - 2s 9ms/step - loss: 0.5504 - accuracy: 0.7180 - val_loss: 0.5542 - val_accuracy: 0.7154\n",
            "Epoch 10/50\n",
            "279/279 [==============================] - 2s 9ms/step - loss: 0.5460 - accuracy: 0.7208 - val_loss: 0.5497 - val_accuracy: 0.7166\n",
            "Epoch 11/50\n",
            "279/279 [==============================] - 2s 9ms/step - loss: 0.5420 - accuracy: 0.7237 - val_loss: 0.5470 - val_accuracy: 0.7195\n",
            "Epoch 12/50\n",
            "279/279 [==============================] - 3s 10ms/step - loss: 0.5388 - accuracy: 0.7254 - val_loss: 0.5455 - val_accuracy: 0.7199\n",
            "Epoch 13/50\n",
            "279/279 [==============================] - 4s 14ms/step - loss: 0.5362 - accuracy: 0.7272 - val_loss: 0.5420 - val_accuracy: 0.7254\n",
            "Epoch 14/50\n",
            "279/279 [==============================] - 2s 9ms/step - loss: 0.5340 - accuracy: 0.7289 - val_loss: 0.5409 - val_accuracy: 0.7234\n",
            "Epoch 15/50\n",
            "279/279 [==============================] - 2s 9ms/step - loss: 0.5317 - accuracy: 0.7302 - val_loss: 0.5377 - val_accuracy: 0.7284\n",
            "Epoch 16/50\n",
            "279/279 [==============================] - 2s 9ms/step - loss: 0.5299 - accuracy: 0.7318 - val_loss: 0.5368 - val_accuracy: 0.7289\n",
            "Epoch 17/50\n",
            "279/279 [==============================] - 2s 9ms/step - loss: 0.5283 - accuracy: 0.7328 - val_loss: 0.5368 - val_accuracy: 0.7260\n",
            "Epoch 18/50\n",
            "279/279 [==============================] - 3s 12ms/step - loss: 0.5270 - accuracy: 0.7333 - val_loss: 0.5340 - val_accuracy: 0.7290\n",
            "Epoch 19/50\n",
            "279/279 [==============================] - 3s 11ms/step - loss: 0.5254 - accuracy: 0.7347 - val_loss: 0.5354 - val_accuracy: 0.7286\n",
            "Epoch 20/50\n",
            "279/279 [==============================] - 2s 9ms/step - loss: 0.5243 - accuracy: 0.7351 - val_loss: 0.5312 - val_accuracy: 0.7301\n",
            "Epoch 21/50\n",
            "279/279 [==============================] - 2s 9ms/step - loss: 0.5230 - accuracy: 0.7360 - val_loss: 0.5319 - val_accuracy: 0.7284\n",
            "Epoch 22/50\n",
            "279/279 [==============================] - 2s 8ms/step - loss: 0.5219 - accuracy: 0.7364 - val_loss: 0.5302 - val_accuracy: 0.7314\n",
            "Epoch 23/50\n",
            "279/279 [==============================] - 3s 10ms/step - loss: 0.5208 - accuracy: 0.7374 - val_loss: 0.5296 - val_accuracy: 0.7331\n",
            "Epoch 24/50\n",
            "279/279 [==============================] - 4s 13ms/step - loss: 0.5199 - accuracy: 0.7382 - val_loss: 0.5301 - val_accuracy: 0.7281\n",
            "Epoch 25/50\n",
            "279/279 [==============================] - 2s 9ms/step - loss: 0.5191 - accuracy: 0.7383 - val_loss: 0.5275 - val_accuracy: 0.7307\n",
            "Epoch 26/50\n",
            "279/279 [==============================] - 2s 9ms/step - loss: 0.5181 - accuracy: 0.7390 - val_loss: 0.5268 - val_accuracy: 0.7340\n",
            "Epoch 27/50\n",
            "279/279 [==============================] - 2s 9ms/step - loss: 0.5177 - accuracy: 0.7397 - val_loss: 0.5258 - val_accuracy: 0.7339\n",
            "Epoch 28/50\n",
            "279/279 [==============================] - 2s 8ms/step - loss: 0.5166 - accuracy: 0.7401 - val_loss: 0.5249 - val_accuracy: 0.7346\n",
            "Epoch 29/50\n",
            "279/279 [==============================] - 4s 13ms/step - loss: 0.5161 - accuracy: 0.7408 - val_loss: 0.5250 - val_accuracy: 0.7325\n",
            "Epoch 30/50\n",
            "279/279 [==============================] - 3s 11ms/step - loss: 0.5153 - accuracy: 0.7413 - val_loss: 0.5236 - val_accuracy: 0.7357\n",
            "Epoch 31/50\n",
            "279/279 [==============================] - 2s 9ms/step - loss: 0.5144 - accuracy: 0.7417 - val_loss: 0.5232 - val_accuracy: 0.7348\n",
            "Epoch 32/50\n",
            "279/279 [==============================] - 2s 9ms/step - loss: 0.5138 - accuracy: 0.7419 - val_loss: 0.5228 - val_accuracy: 0.7368\n",
            "Epoch 33/50\n",
            "279/279 [==============================] - 2s 9ms/step - loss: 0.5133 - accuracy: 0.7427 - val_loss: 0.5225 - val_accuracy: 0.7352\n",
            "Epoch 34/50\n",
            "279/279 [==============================] - 3s 11ms/step - loss: 0.5127 - accuracy: 0.7430 - val_loss: 0.5223 - val_accuracy: 0.7354\n",
            "Epoch 35/50\n",
            "279/279 [==============================] - 4s 13ms/step - loss: 0.5121 - accuracy: 0.7429 - val_loss: 0.5218 - val_accuracy: 0.7381\n",
            "Epoch 36/50\n",
            "279/279 [==============================] - 2s 9ms/step - loss: 0.5116 - accuracy: 0.7431 - val_loss: 0.5222 - val_accuracy: 0.7354\n",
            "Epoch 37/50\n",
            "279/279 [==============================] - 2s 9ms/step - loss: 0.5110 - accuracy: 0.7439 - val_loss: 0.5217 - val_accuracy: 0.7370\n",
            "Epoch 38/50\n",
            "279/279 [==============================] - 2s 9ms/step - loss: 0.5105 - accuracy: 0.7442 - val_loss: 0.5193 - val_accuracy: 0.7373\n",
            "Epoch 39/50\n",
            "279/279 [==============================] - 2s 9ms/step - loss: 0.5101 - accuracy: 0.7449 - val_loss: 0.5201 - val_accuracy: 0.7370\n",
            "Epoch 40/50\n",
            "279/279 [==============================] - 4s 13ms/step - loss: 0.5095 - accuracy: 0.7451 - val_loss: 0.5194 - val_accuracy: 0.7367\n",
            "Epoch 41/50\n",
            "279/279 [==============================] - 3s 10ms/step - loss: 0.5091 - accuracy: 0.7453 - val_loss: 0.5203 - val_accuracy: 0.7372\n",
            "Epoch 42/50\n",
            "279/279 [==============================] - 2s 9ms/step - loss: 0.5087 - accuracy: 0.7457 - val_loss: 0.5186 - val_accuracy: 0.7376\n",
            "Epoch 43/50\n",
            "279/279 [==============================] - 2s 9ms/step - loss: 0.5082 - accuracy: 0.7460 - val_loss: 0.5182 - val_accuracy: 0.7366\n",
            "Epoch 44/50\n",
            "279/279 [==============================] - 2s 9ms/step - loss: 0.5079 - accuracy: 0.7460 - val_loss: 0.5180 - val_accuracy: 0.7395\n",
            "Epoch 45/50\n",
            "279/279 [==============================] - 3s 11ms/step - loss: 0.5073 - accuracy: 0.7465 - val_loss: 0.5187 - val_accuracy: 0.7383\n",
            "Epoch 46/50\n",
            "279/279 [==============================] - 3s 12ms/step - loss: 0.5068 - accuracy: 0.7470 - val_loss: 0.5172 - val_accuracy: 0.7399\n",
            "Epoch 47/50\n",
            "279/279 [==============================] - 2s 9ms/step - loss: 0.5065 - accuracy: 0.7476 - val_loss: 0.5171 - val_accuracy: 0.7366\n",
            "Epoch 48/50\n",
            "279/279 [==============================] - 2s 9ms/step - loss: 0.5062 - accuracy: 0.7472 - val_loss: 0.5173 - val_accuracy: 0.7387\n",
            "Epoch 49/50\n",
            "279/279 [==============================] - 3s 10ms/step - loss: 0.5056 - accuracy: 0.7479 - val_loss: 0.5180 - val_accuracy: 0.7402\n",
            "Epoch 50/50\n",
            "279/279 [==============================] - 5s 19ms/step - loss: 0.5056 - accuracy: 0.7479 - val_loss: 0.5168 - val_accuracy: 0.7382\n",
            "17825/17825 - 32s - loss: 0.5043 - accuracy: 0.7486 - 32s/epoch - 2ms/step\n",
            "469/469 - 1s - loss: 0.5121 - accuracy: 0.7421 - 884ms/epoch - 2ms/step\n",
            "458/458 - 1s - loss: 0.5168 - accuracy: 0.7382 - 807ms/epoch - 2ms/step\n",
            "Accuracy on train set: 0.7486250400543213\n",
            "Accuracy on test set: 0.7421333193778992\n",
            "Accuracy on validation set: 0.7381880283355713\n"
          ]
        }
      ]
    },
    {
      "cell_type": "code",
      "source": [
        "# Visualize our neural network model\n",
        "from ann_visualizer.visualize import ann_viz\n",
        "ann_viz(model, title = \"Neural Network Model4\", view = True, filename = \"model4\")"
      ],
      "metadata": {
        "id": "jx8aElUmMgkt"
      },
      "execution_count": 37,
      "outputs": []
    },
    {
      "cell_type": "code",
      "source": [
        "# Print the model summary\n",
        "model.summary()"
      ],
      "metadata": {
        "id": "OzZKjDpfJy_V",
        "colab": {
          "base_uri": "https://localhost:8080/"
        },
        "outputId": "1d46850e-a8fc-4e64-dedd-dfa8ef16734c"
      },
      "execution_count": 38,
      "outputs": [
        {
          "output_type": "stream",
          "name": "stdout",
          "text": [
            "Model: \"sequential_4\"\n",
            "_________________________________________________________________\n",
            " Layer (type)                Output Shape              Param #   \n",
            "=================================================================\n",
            " dense_8 (Dense)             (None, 300)               8700      \n",
            "                                                                 \n",
            " dense_9 (Dense)             (None, 1)                 301       \n",
            "                                                                 \n",
            "=================================================================\n",
            "Total params: 9,001\n",
            "Trainable params: 9,001\n",
            "Non-trainable params: 0\n",
            "_________________________________________________________________\n"
          ]
        }
      ]
    },
    {
      "cell_type": "code",
      "source": [
        "# Plotting training and validation losses\n",
        "print(f\"Final loss: {history.history['loss'][-1]}\")\n",
        "plt.plot(history.history['loss'])\n",
        "plt.plot(history.history['val_loss'])\n",
        "plt.title('model loss')\n",
        "plt.ylabel('loss')\n",
        "plt.xlabel('epoch')\n",
        "plt.legend(['training', 'validation'])\n",
        "plt.grid()\n",
        "plt.show()"
      ],
      "metadata": {
        "id": "XNkM6YwbJznF",
        "colab": {
          "base_uri": "https://localhost:8080/",
          "height": 489
        },
        "outputId": "0c70d689-1229-490e-a283-d9bc43045e98"
      },
      "execution_count": 39,
      "outputs": [
        {
          "output_type": "stream",
          "name": "stdout",
          "text": [
            "Final loss: 0.5056148171424866\n"
          ]
        },
        {
          "output_type": "display_data",
          "data": {
            "text/plain": [
              "<Figure size 640x480 with 1 Axes>"
            ],
            "image/png": "[encoded data removed]"
          },
          "metadata": {}
        }
      ]
    },
    {
      "cell_type": "code",
      "source": [
        "# Predict the class labels of the test data\n",
        "y_pred = model.predict(X_test)\n",
        "for i in range(len(y_pred)):\n",
        "  if y_pred[i] > 0.5:\n",
        "     y_pred[i] = 1\n",
        "  else:\n",
        "     y_pred[i] = 0\n",
        "\n",
        "# Display confusion matrix and classification report for the test data\n",
        "print('Classification Report:')\n",
        "print(classification_report(y_test, y_pred))\n",
        "print('Confusion Matrix:')\n",
        "print(confusion_matrix(y_test, y_pred))"
      ],
      "metadata": {
        "id": "kM5vw4C3KBoc",
        "colab": {
          "base_uri": "https://localhost:8080/"
        },
        "outputId": "53c78733-9b25-440c-c2f4-f2c5add6c50c"
      },
      "execution_count": 40,
      "outputs": [
        {
          "output_type": "stream",
          "name": "stdout",
          "text": [
            "469/469 [==============================] - 1s 1ms/step\n",
            "Classification Report:\n",
            "              precision    recall  f1-score   support\n",
            "\n",
            "         0.0       0.72      0.72      0.72      6953\n",
            "         1.0       0.76      0.76      0.76      8047\n",
            "\n",
            "    accuracy                           0.74     15000\n",
            "   macro avg       0.74      0.74      0.74     15000\n",
            "weighted avg       0.74      0.74      0.74     15000\n",
            "\n",
            "Confusion Matrix:\n",
            "[[4988 1965]\n",
            " [1903 6144]]\n"
          ]
        }
      ]
    }
  ]
}