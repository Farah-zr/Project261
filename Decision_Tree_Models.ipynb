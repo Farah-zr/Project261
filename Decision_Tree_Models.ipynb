{
  "nbformat": 4,
  "nbformat_minor": 0,
  "metadata": {
    "colab": {
      "provenance": [],
      "include_colab_link": true
    },
    "kernelspec": {
      "name": "python3",
      "display_name": "Python 3"
    },
    "language_info": {
      "name": "python"
    }
  },
  "cells": [
    {
      "cell_type": "markdown",
      "metadata": {
        "id": "view-in-github",
        "colab_type": "text"
      },
      "source": [
        "<a href=\"https://colab.research.google.com/github/ghiyaa/proj261/blob/main/Decision_Tree_Models.ipynb\" target=\"_parent\"><img src=\"https://colab.research.google.com/assets/colab-badge.svg\" alt=\"Open In Colab\"/></a>"
      ]
    },
    {
      "cell_type": "code",
      "execution_count": 7,
      "metadata": {
        "id": "v0A-84g5V-v0"
      },
      "outputs": [],
      "source": [
        "import pandas as pd\n",
        "import numpy as np\n",
        "\n",
        "import sklearn \n",
        "from sklearn.model_selection import train_test_split\n",
        "from sklearn.preprocessing import StandardScaler\n",
        "\n",
        "from sklearn.tree import DecisionTreeClassifier"
      ]
    },
    {
      "cell_type": "code",
      "source": [
        "from google.colab import drive\n",
        "drive.mount('/content/gdrive')"
      ],
      "metadata": {
        "id": "YUFQsQriWVWZ",
        "colab": {
          "base_uri": "https://localhost:8080/"
        },
        "outputId": "b4787fa5-4e20-4893-eefc-9936de174b4a"
      },
      "execution_count": 2,
      "outputs": [
        {
          "output_type": "stream",
          "name": "stdout",
          "text": [
            "Mounted at /content/gdrive\n"
          ]
        }
      ]
    },
    {
      "cell_type": "code",
      "source": [
        "# please provide the path where HIGGS_train.csv is located\n",
        "\n",
        "df = pd.read_csv('/content/gdrive/My Drive/proj261/HIGGS_train.csv', low_memory = False, header = None)"
      ],
      "metadata": {
        "id": "GQXM19OkWXdS"
      },
      "execution_count": 4,
      "outputs": []
    },
    {
      "cell_type": "code",
      "source": [
        "import sys\n",
        "# here provide the path where preprocessing_module is located\n",
        "sys.path.append('/content/gdrive/MyDrive/proj261/')\n",
        "\n",
        "from preprocessing_module import Preprocessing\n",
        "# Cleaning the data\n",
        "X, y = Preprocessing(df)\n",
        "print(X, y)"
      ],
      "metadata": {
        "id": "gogi5WjkWYNo",
        "colab": {
          "base_uri": "https://localhost:8080/"
        },
        "outputId": "fd165205-aa09-472c-a975-006efd4c2fe6"
      },
      "execution_count": 5,
      "outputs": [
        {
          "output_type": "stream",
          "name": "stdout",
          "text": [
            "[260692]\n",
            "0           1.0\n",
            "1          1.75\n",
            "2         0.442\n",
            "3           1.5\n",
            "4         0.708\n",
            "5         -1.28\n",
            "6          1.13\n",
            "7         0.902\n",
            "8     -1.92E-01\n",
            "9          2.17\n",
            "10        0.562\n",
            "11        0.219\n",
            "12        0.864\n",
            "13          0.0\n",
            "14        0.492\n",
            "15        0.317\n",
            "16       -0.221\n",
            "17          NaN\n",
            "18        0.508\n",
            "19         1.45\n",
            "20         1.58\n",
            "21     0.00E+00\n",
            "22        0.718\n",
            "23         1.02\n",
            "24        0.989\n",
            "25        0.732\n",
            "26        0.266\n",
            "27        0.891\n",
            "28        0.758\n",
            "Name: 260692, dtype: object\n",
            "\"1.01\" 261026 8\n",
            "[261025]\n",
            "error 490959 21\n",
            "[261025, 490958]\n",
            "s 490960 21\n",
            "[261025, 490958, 490959]\n",
            "[[0.869 -0.635 0.226 ... 0.722 0.989 0.877]\n",
            " [0.908 0.329 0.359 ... 0.78 0.992 0.798]\n",
            " [0.799 1.47 -1.64 ... 0.803 0.866 0.78]\n",
            " ...\n",
            " [1.07 0.364 0.344 ... 0.852 0.908 0.789]\n",
            " [1.18 -0.173 -1.46 ... 0.745 0.741 0.728]\n",
            " [0.771 -0.133 -1.02 ... 0.51 1.04 0.905]] [1. 1. 1. ... 1. 1. 0.]\n"
          ]
        }
      ]
    },
    {
      "cell_type": "code",
      "source": [
        "# Split the data into training 97.5% and test 2.5% sets\n",
        "X_train, X_test, y_train, y_test = train_test_split(X, y, test_size = 0.025, random_state = 42)\n",
        "\n",
        "# Print the shape of the training and test sets\n",
        "print(\"Training set shape:\", X_train.shape, y_train.shape)\n",
        "print(\"Test set shape:\", X_test.shape, y_test.shape)"
      ],
      "metadata": {
        "id": "ABAFGJKPWiEf",
        "colab": {
          "base_uri": "https://localhost:8080/"
        },
        "outputId": "005e66c0-9012-4eb7-ca72-66abb11bf2f0"
      },
      "execution_count": 8,
      "outputs": [
        {
          "output_type": "stream",
          "name": "stdout",
          "text": [
            "Training set shape: (584996, 28) (584996,)\n",
            "Test set shape: (15000, 28) (15000,)\n"
          ]
        }
      ]
    },
    {
      "cell_type": "code",
      "source": [
        "# Feature scaling: Standard Normalization\n",
        "\n",
        "# Create a StandardScaler object\n",
        "scaler = StandardScaler()\n",
        "\n",
        "# Fit the scaler on the training data and transform it\n",
        "X_train = scaler.fit_transform(X_train)\n",
        "# Transform the test data using the parameters learned from the training data\n",
        "X_test = scaler.transform(X_test)"
      ],
      "metadata": {
        "id": "_qJ_Mn4rWkWl"
      },
      "execution_count": 9,
      "outputs": []
    },
    {
      "cell_type": "code",
      "source": [
        "# Model 1:\n",
        "\n",
        "# Build a decision tree model\n",
        "dt = DecisionTreeClassifier(criterion = 'entropy', random_state = 55)\n",
        "\n",
        "# Train the model on the training data\n",
        "dt.fit(X_train, y_train)\n",
        "\n",
        "# Predict classes of the test data\n",
        "y_pred_train = dt.predict(X_train)\n",
        "y_pred_test = dt.predict(X_test)\n",
        "\n",
        "# Calculate the test accuracy\n",
        "accuracy_train = sklearn.metrics.accuracy_score(y_train, y_pred_train)\n",
        "accuracy_test = sklearn.metrics.accuracy_score(y_test, y_pred_test)\n",
        "\n",
        "print('Accuracy on train:', accuracy_train)\n",
        "print('Accuracy on test:', accuracy_test)"
      ],
      "metadata": {
        "id": "67Bt1VUdWNve",
        "colab": {
          "base_uri": "https://localhost:8080/"
        },
        "outputId": "923f4645-7ad9-4a8a-9d6c-ca1e55e66df2"
      },
      "execution_count": 10,
      "outputs": [
        {
          "output_type": "stream",
          "name": "stdout",
          "text": [
            "Accuracy on train: 1.0\n",
            "Accuracy on test: 0.6458\n"
          ]
        }
      ]
    },
    {
      "cell_type": "code",
      "source": [
        "# Model 2: (with max_depth = 10)\n",
        "\n",
        "# Build a decision tree model\n",
        "dt = DecisionTreeClassifier(criterion = 'entropy', random_state = 55, max_depth = 10)\n",
        "\n",
        "# Train the model on the training data\n",
        "dt.fit(X_train, y_train)\n",
        "\n",
        "# Predict classes of the test data\n",
        "y_pred_train = dt.predict(X_train)\n",
        "y_pred_test = dt.predict(X_test)\n",
        "\n",
        "# Calculate the test accuracy\n",
        "accuracy_train = sklearn.metrics.accuracy_score(y_train, y_pred_train)\n",
        "accuracy_test = sklearn.metrics.accuracy_score(y_test, y_pred_test)\n",
        "\n",
        "print('Accuracy on train:', accuracy_train)\n",
        "print('Accuracy on test:', accuracy_test)"
      ],
      "metadata": {
        "id": "0ikyM9l-eYe4",
        "colab": {
          "base_uri": "https://localhost:8080/"
        },
        "outputId": "bb0f3045-02cd-4a6c-895e-bbf113789117"
      },
      "execution_count": 11,
      "outputs": [
        {
          "output_type": "stream",
          "name": "stdout",
          "text": [
            "Accuracy on train: 0.710013401801038\n",
            "Accuracy on test: 0.7058\n"
          ]
        }
      ]
    }
  ]
}