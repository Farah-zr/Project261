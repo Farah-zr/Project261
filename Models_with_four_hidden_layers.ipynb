{
  "nbformat": 4,
  "nbformat_minor": 0,
  "metadata": {
    "colab": {
      "provenance": [],
      "include_colab_link": true
    },
    "kernelspec": {
      "name": "python3",
      "display_name": "Python 3"
    },
    "language_info": {
      "name": "python"
    }
  },
  "cells": [
    {
      "cell_type": "markdown",
      "metadata": {
        "id": "view-in-github",
        "colab_type": "text"
      },
      "source": [
        "<a href=\"https://colab.research.google.com/github/ghiyaa/proj261/blob/main/Models_with_four_hidden_layers.ipynb\" target=\"_parent\"><img src=\"https://colab.research.google.com/assets/colab-badge.svg\" alt=\"Open In Colab\"/></a>"
      ]
    },
    {
      "cell_type": "code",
      "execution_count": null,
      "metadata": {
        "id": "bh1DmY-DJpR_"
      },
      "outputs": [],
      "source": [
        "import pandas as pd\n",
        "import numpy as np \n",
        "import matplotlib.pyplot as plt\n",
        "\n",
        "import tensorflow as tf\n",
        "from tensorflow import keras\n",
        "from keras import layers\n",
        "from keras.callbacks import EarlyStopping, ModelCheckpoint\n",
        "\n",
        "import sklearn \n",
        "from sklearn.model_selection import train_test_split\n",
        "from sklearn.preprocessing import StandardScaler\n",
        "from sklearn.metrics import classification_report, confusion_matrix"
      ]
    },
    {
      "cell_type": "code",
      "source": [
        "from google.colab import drive\n",
        "drive.mount('/content/gdrive')"
      ],
      "metadata": {
        "id": "ZoUmkN7_JrzN",
        "colab": {
          "base_uri": "https://localhost:8080/"
        },
        "outputId": "0d21a9a6-fc0e-49f1-9224-a4ed2b6373c3"
      },
      "execution_count": null,
      "outputs": [
        {
          "output_type": "stream",
          "name": "stdout",
          "text": [
            "Drive already mounted at /content/gdrive; to attempt to forcibly remount, call drive.mount(\"/content/gdrive\", force_remount=True).\n"
          ]
        }
      ]
    },
    {
      "cell_type": "code",
      "source": [
        "# please provide the path where HIGGS_train.csv is located\n",
        "\n",
        "df = pd.read_csv('/content/gdrive/My Drive/proj261/HIGGS_train.csv', low_memory = False, header = None)"
      ],
      "metadata": {
        "id": "r65vAm25Kmy1"
      },
      "execution_count": null,
      "outputs": []
    },
    {
      "cell_type": "code",
      "source": [
        "import sys\n",
        "# here provide the path where preprocessing_module is located\n",
        "sys.path.append('/content/gdrive/MyDrive/proj261')\n",
        "\n",
        "from preprocessing_module import Preprocessing\n",
        "# Cleaning the data\n",
        "X, y = Preprocessing(df)\n",
        "print(X, y)"
      ],
      "metadata": {
        "id": "l4T-f2pTKrGN",
        "colab": {
          "base_uri": "https://localhost:8080/"
        },
        "outputId": "d3d91cdd-e31c-4073-9b26-652e4c10c83c"
      },
      "execution_count": null,
      "outputs": [
        {
          "output_type": "stream",
          "name": "stdout",
          "text": [
            "[260692]\n",
            "0           1.0\n",
            "1          1.75\n",
            "2         0.442\n",
            "3           1.5\n",
            "4         0.708\n",
            "5         -1.28\n",
            "6          1.13\n",
            "7         0.902\n",
            "8     -1.92E-01\n",
            "9          2.17\n",
            "10        0.562\n",
            "11        0.219\n",
            "12        0.864\n",
            "13          0.0\n",
            "14        0.492\n",
            "15        0.317\n",
            "16       -0.221\n",
            "17          NaN\n",
            "18        0.508\n",
            "19         1.45\n",
            "20         1.58\n",
            "21     0.00E+00\n",
            "22        0.718\n",
            "23         1.02\n",
            "24        0.989\n",
            "25        0.732\n",
            "26        0.266\n",
            "27        0.891\n",
            "28        0.758\n",
            "Name: 260692, dtype: object\n",
            "\"1.01\" 261026 8\n",
            "[261025]\n",
            "error 490959 21\n",
            "[261025, 490958]\n",
            "s 490960 21\n",
            "[261025, 490958, 490959]\n",
            "[[0.869 -0.635 0.226 ... 0.722 0.989 0.877]\n",
            " [0.908 0.329 0.359 ... 0.78 0.992 0.798]\n",
            " [0.799 1.47 -1.64 ... 0.803 0.866 0.78]\n",
            " ...\n",
            " [1.07 0.364 0.344 ... 0.852 0.908 0.789]\n",
            " [1.18 -0.173 -1.46 ... 0.745 0.741 0.728]\n",
            " [0.771 -0.133 -1.02 ... 0.51 1.04 0.905]] [1. 1. 1. ... 1. 1. 0.]\n"
          ]
        }
      ]
    },
    {
      "cell_type": "code",
      "source": [
        "from google.colab import drive\n",
        "drive.mount('/content/gdrive')"
      ],
      "metadata": {
        "colab": {
          "base_uri": "https://localhost:8080/"
        },
        "id": "DTEJrwA_ULnn",
        "outputId": "6f0a11c7-4c8d-4cd1-d49e-86947f521200"
      },
      "execution_count": null,
      "outputs": [
        {
          "output_type": "stream",
          "name": "stdout",
          "text": [
            "Mounted at /content/gdrive\n"
          ]
        }
      ]
    },
    {
      "cell_type": "code",
      "source": [
        "# Split the data into training 95.07%, validation 2.43% and test 2.5% sets\n",
        "X_train, X_test, y_train, y_test = train_test_split(X, y, test_size = 0.025, random_state = 42)\n",
        "X_train, X_val, y_train, y_val   = train_test_split(X_train, y_train, test_size = 0.025, random_state = 42)\n",
        "\n",
        "# Print the shape of the training and test sets\n",
        "print(\"Training set shape:\", X_train.shape, y_train.shape)\n",
        "print(\"Test set shape:\", X_test.shape, y_test.shape)"
      ],
      "metadata": {
        "id": "lqLcSM5QM-Wl",
        "colab": {
          "base_uri": "https://localhost:8080/"
        },
        "outputId": "551aeee0-b507-430d-da69-9083a9e23319"
      },
      "execution_count": null,
      "outputs": [
        {
          "output_type": "stream",
          "name": "stdout",
          "text": [
            "Training set shape: (570371, 28) (570371,)\n",
            "Test set shape: (15000, 28) (15000,)\n"
          ]
        }
      ]
    },
    {
      "cell_type": "code",
      "source": [
        "# Feature scaling: Standard Normalization\n",
        "\n",
        "# Create a StandardScaler object\n",
        "scaler = StandardScaler()\n",
        "\n",
        "# Fit the scaler on the training data and transform it\n",
        "X_train = scaler.fit_transform(X_train)\n",
        "# Transform the test data using the parameters learned from the training data\n",
        "X_test = scaler.transform(X_test)\n",
        "# Transform the validation data using the parameters learned from the training data\n",
        "X_val = scaler.transform(X_val)"
      ],
      "metadata": {
        "id": "stKUSS98M--V"
      },
      "execution_count": null,
      "outputs": []
    },
    {
      "cell_type": "code",
      "source": [
        "# Model 5: using neural networks with 4 hidden layers using ReLU, with dropout and epochs = 20\n",
        "\n",
        "# Build the model\n",
        "model = keras.Sequential([\n",
        "    layers.Dense(300, activation='relu', input_shape=(28,)),\n",
        "    layers.Dropout(0.2),\n",
        "    layers.Dense(300, activation='relu'),\n",
        "    layers.Dropout(0.12),\n",
        "    layers.Dense(300, activation='relu'),\n",
        "    layers.Dropout(0.12),\n",
        "    layers.Dense(300, activation='relu'),\n",
        "    layers.Dropout(0.3),\n",
        "    layers.Dense(1, activation='sigmoid')\n",
        "])\n",
        "\n",
        "# Use early stopping as a regularization technique to avoid overfitting\n",
        "es = EarlyStopping(monitor = 'val_accuracy', mode = 'max', verbose = 1, patience = 10)\n",
        "mc = ModelCheckpoint('/content/gdrive/My Drive/best_model.h5', monitor = 'val_accuracy', mode = 'auto')\n",
        "\n",
        "# Compile the model\n",
        "model.compile(loss = 'binary_crossentropy', optimizer = 'adam', metrics = ['accuracy'])\n",
        "\n",
        "# Train the model on the training data\n",
        "history = model.fit(X_train, y_train, epochs = 20, batch_size = 2048, verbose = 1, validation_data = (X_val, y_val), callbacks = [es,mc])\n",
        "\n",
        "# Compute the training, validation, and testing accuracies of the classifier\n",
        "loss_train, accuracy_train = model.evaluate(X_train, y_train, verbose=2)\n",
        "loss_test, accuracy_test   = model.evaluate(X_test, y_test, verbose=2)\n",
        "loss_val, accuracy_val     = model.evaluate(X_val, y_val, verbose=2)\n",
        "\n",
        "print('Accuracy on train set:', accuracy_train)\n",
        "print('Accuracy on test set:', accuracy_test)\n",
        "print('Accuracy on validation set:', accuracy_val)"
      ],
      "metadata": {
        "id": "DGHWMWhpNQi_",
        "colab": {
          "base_uri": "https://localhost:8080/"
        },
        "outputId": "43bd010f-e81b-4d81-f8bf-fd275de5d46a"
      },
      "execution_count": null,
      "outputs": [
        {
          "output_type": "stream",
          "name": "stdout",
          "text": [
            "Epoch 1/20\n",
            "279/279 [==============================] - 53s 130ms/step - loss: 0.5983 - accuracy: 0.6740 - val_loss: 0.5614 - val_accuracy: 0.7046\n",
            "Epoch 2/20\n",
            "279/279 [==============================] - 37s 133ms/step - loss: 0.5528 - accuracy: 0.7146 - val_loss: 0.5362 - val_accuracy: 0.7248\n",
            "Epoch 3/20\n",
            "279/279 [==============================] - 36s 130ms/step - loss: 0.5361 - accuracy: 0.7261 - val_loss: 0.5244 - val_accuracy: 0.7322\n",
            "Epoch 4/20\n",
            "279/279 [==============================] - 36s 129ms/step - loss: 0.5275 - accuracy: 0.7323 - val_loss: 0.5185 - val_accuracy: 0.7355\n",
            "Epoch 5/20\n",
            "279/279 [==============================] - 37s 133ms/step - loss: 0.5205 - accuracy: 0.7362 - val_loss: 0.5121 - val_accuracy: 0.7379\n",
            "Epoch 6/20\n",
            "279/279 [==============================] - 36s 128ms/step - loss: 0.5153 - accuracy: 0.7400 - val_loss: 0.5084 - val_accuracy: 0.7409\n",
            "Epoch 7/20\n",
            "279/279 [==============================] - 38s 135ms/step - loss: 0.5116 - accuracy: 0.7425 - val_loss: 0.5040 - val_accuracy: 0.7447\n",
            "Epoch 8/20\n",
            "279/279 [==============================] - 35s 127ms/step - loss: 0.5083 - accuracy: 0.7448 - val_loss: 0.5024 - val_accuracy: 0.7465\n",
            "Epoch 9/20\n",
            "279/279 [==============================] - 38s 136ms/step - loss: 0.5061 - accuracy: 0.7463 - val_loss: 0.5021 - val_accuracy: 0.7479\n",
            "Epoch 10/20\n",
            "279/279 [==============================] - 36s 129ms/step - loss: 0.5034 - accuracy: 0.7478 - val_loss: 0.4997 - val_accuracy: 0.7491\n",
            "Epoch 11/20\n",
            "279/279 [==============================] - 38s 137ms/step - loss: 0.5018 - accuracy: 0.7488 - val_loss: 0.4995 - val_accuracy: 0.7465\n",
            "Epoch 12/20\n",
            "279/279 [==============================] - 36s 127ms/step - loss: 0.4994 - accuracy: 0.7509 - val_loss: 0.4964 - val_accuracy: 0.7511\n",
            "Epoch 13/20\n",
            "279/279 [==============================] - 38s 135ms/step - loss: 0.4977 - accuracy: 0.7520 - val_loss: 0.4958 - val_accuracy: 0.7519\n",
            "Epoch 14/20\n",
            "279/279 [==============================] - 36s 129ms/step - loss: 0.4963 - accuracy: 0.7528 - val_loss: 0.4960 - val_accuracy: 0.7499\n",
            "Epoch 15/20\n",
            "279/279 [==============================] - 37s 132ms/step - loss: 0.4942 - accuracy: 0.7540 - val_loss: 0.4965 - val_accuracy: 0.7499\n",
            "Epoch 16/20\n",
            "279/279 [==============================] - 36s 130ms/step - loss: 0.4934 - accuracy: 0.7542 - val_loss: 0.4936 - val_accuracy: 0.7543\n",
            "Epoch 17/20\n",
            "279/279 [==============================] - 36s 128ms/step - loss: 0.4918 - accuracy: 0.7557 - val_loss: 0.4955 - val_accuracy: 0.7538\n",
            "Epoch 18/20\n",
            "279/279 [==============================] - 38s 135ms/step - loss: 0.4904 - accuracy: 0.7562 - val_loss: 0.4928 - val_accuracy: 0.7552\n",
            "Epoch 19/20\n",
            "279/279 [==============================] - 36s 128ms/step - loss: 0.4895 - accuracy: 0.7573 - val_loss: 0.4921 - val_accuracy: 0.7533\n",
            "Epoch 20/20\n",
            "279/279 [==============================] - 38s 136ms/step - loss: 0.4880 - accuracy: 0.7581 - val_loss: 0.4917 - val_accuracy: 0.7550\n",
            "17825/17825 - 43s - loss: 0.4625 - accuracy: 0.7733 - 43s/epoch - 2ms/step\n",
            "469/469 - 1s - loss: 0.4918 - accuracy: 0.7576 - 1s/epoch - 3ms/step\n",
            "458/458 - 1s - loss: 0.4917 - accuracy: 0.7550 - 987ms/epoch - 2ms/step\n",
            "Accuracy on train set: 0.7733176946640015\n",
            "Accuracy on test set: 0.7576000094413757\n",
            "Accuracy on validation set: 0.7550085186958313\n"
          ]
        }
      ]
    },
    {
      "cell_type": "code",
      "source": [
        "# Download ann_visualizer (if it doesn't already exist)\n",
        "!pip3 install ann_visualizer"
      ],
      "metadata": {
        "id": "idRJpEnrPBwx",
        "colab": {
          "base_uri": "https://localhost:8080/"
        },
        "outputId": "aee2d40a-8029-49dd-e0bb-f172c2c2811b"
      },
      "execution_count": null,
      "outputs": [
        {
          "output_type": "stream",
          "name": "stdout",
          "text": [
            "Looking in indexes: https://pypi.org/simple, https://us-python.pkg.dev/colab-wheels/public/simple/\n",
            "Collecting ann_visualizer\n",
            "  Downloading ann_visualizer-2.5.tar.gz (4.7 kB)\n",
            "  Preparing metadata (setup.py) ... \u001b[?25l\u001b[?25hdone\n",
            "Building wheels for collected packages: ann_visualizer\n",
            "  Building wheel for ann_visualizer (setup.py) ... \u001b[?25l\u001b[?25hdone\n",
            "  Created wheel for ann_visualizer: filename=ann_visualizer-2.5-py3-none-any.whl size=4179 sha256=de0ecc020cb7fb9737dc5d956365b96b3794a195c58ad560ea29e41f8a4a7047\n",
            "  Stored in directory: /root/.cache/pip/wheels/2d/d8/86/67f4a249969eaaa31c6df569f4ebfa84634fae3af2c627107b\n",
            "Successfully built ann_visualizer\n",
            "Installing collected packages: ann_visualizer\n",
            "Successfully installed ann_visualizer-2.5\n"
          ]
        }
      ]
    },
    {
      "cell_type": "code",
      "source": [
        "# Visualize our neural network model\n",
        "from ann_visualizer.visualize import ann_viz\n",
        "ann_viz(model, title = \"Neural Network Model5\", view = True, filename = \"model5\")"
      ],
      "metadata": {
        "id": "yOSg80t0PCaD"
      },
      "execution_count": null,
      "outputs": []
    },
    {
      "cell_type": "code",
      "source": [
        "# Print the model summary\n",
        "model.summary()"
      ],
      "metadata": {
        "id": "Te1zbXZeS9ds",
        "colab": {
          "base_uri": "https://localhost:8080/"
        },
        "outputId": "d24fe2c0-411e-4f67-d983-4bdf1994c245"
      },
      "execution_count": null,
      "outputs": [
        {
          "output_type": "stream",
          "name": "stdout",
          "text": [
            "Model: \"sequential_2\"\n",
            "_________________________________________________________________\n",
            " Layer (type)                Output Shape              Param #   \n",
            "=================================================================\n",
            " dense_10 (Dense)            (None, 300)               8700      \n",
            "                                                                 \n",
            " dropout_8 (Dropout)         (None, 300)               0         \n",
            "                                                                 \n",
            " dense_11 (Dense)            (None, 300)               90300     \n",
            "                                                                 \n",
            " dropout_9 (Dropout)         (None, 300)               0         \n",
            "                                                                 \n",
            " dense_12 (Dense)            (None, 300)               90300     \n",
            "                                                                 \n",
            " dropout_10 (Dropout)        (None, 300)               0         \n",
            "                                                                 \n",
            " dense_13 (Dense)            (None, 300)               90300     \n",
            "                                                                 \n",
            " dropout_11 (Dropout)        (None, 300)               0         \n",
            "                                                                 \n",
            " dense_14 (Dense)            (None, 1)                 301       \n",
            "                                                                 \n",
            "=================================================================\n",
            "Total params: 279,901\n",
            "Trainable params: 279,901\n",
            "Non-trainable params: 0\n",
            "_________________________________________________________________\n"
          ]
        }
      ]
    },
    {
      "cell_type": "code",
      "source": [
        "# Plotting training and validation losses\n",
        "print(f\"Final loss: {history.history['loss'][-1]}\")\n",
        "plt.plot(history.history['loss'])\n",
        "plt.plot(history.history['val_loss'])\n",
        "plt.title('model loss')\n",
        "plt.ylabel('loss')\n",
        "plt.xlabel('epoch')\n",
        "plt.legend(['training', 'validation'])\n",
        "plt.grid()\n",
        "plt.show()"
      ],
      "metadata": {
        "id": "Mp3CJmyXTB8m",
        "colab": {
          "base_uri": "https://localhost:8080/",
          "height": 489
        },
        "outputId": "6e9c642a-1c77-473f-c91d-3d919c77d7bb"
      },
      "execution_count": null,
      "outputs": [
        {
          "output_type": "stream",
          "name": "stdout",
          "text": [
            "Final loss: 0.4879682958126068\n"
          ]
        },
        {
          "output_type": "display_data",
          "data": {
            "text/plain": [
              "<Figure size 640x480 with 1 Axes>"
            ],
            "image/png": "[encoded data removed]"
          },
          "metadata": {}
        }
      ]
    },
    {
      "cell_type": "code",
      "source": [
        "# Predict the class labels of the test data\n",
        "y_pred = model.predict(X_test)\n",
        "for i in range(len(y_pred)):\n",
        "  if y_pred[i] > 0.5:\n",
        "     y_pred[i] = 1\n",
        "  else:\n",
        "     y_pred[i] = 0\n",
        "\n",
        "# Display confusion matrix and classification report for the test data\n",
        "print('Classification Report:')\n",
        "print(classification_report(y_test, y_pred))\n",
        "print('Confusion Matrix:')\n",
        "print(confusion_matrix(y_test, y_pred))"
      ],
      "metadata": {
        "id": "qudxVq4aTVx6",
        "colab": {
          "base_uri": "https://localhost:8080/"
        },
        "outputId": "a1038248-94ef-4e6f-b5c0-f1f9b772665e"
      },
      "execution_count": null,
      "outputs": [
        {
          "output_type": "stream",
          "name": "stdout",
          "text": [
            "469/469 [==============================] - 2s 4ms/step\n",
            "Classification Report:\n",
            "              precision    recall  f1-score   support\n",
            "\n",
            "         0.0       0.74      0.73      0.74      6953\n",
            "         1.0       0.77      0.78      0.77      8047\n",
            "\n",
            "    accuracy                           0.76     15000\n",
            "   macro avg       0.76      0.76      0.76     15000\n",
            "weighted avg       0.76      0.76      0.76     15000\n",
            "\n",
            "Confusion Matrix:\n",
            "[[5109 1844]\n",
            " [1792 6255]]\n"
          ]
        }
      ]
    },
    {
      "cell_type": "code",
      "source": [
        "# Model 6: using neural networks with 4 hidden layers using TanH, with dropout and epochs = 20\n",
        "\n",
        "# Build the model\n",
        "model = keras.Sequential([\n",
        "    layers.Dense(300, activation='tanh', input_shape=(28,)),\n",
        "    layers.Dropout(0.2),\n",
        "    layers.Dense(300, activation='tanh'),\n",
        "    layers.Dropout(0.12),\n",
        "    layers.Dense(300, activation='tanh'),\n",
        "    layers.Dropout(0.12),\n",
        "    layers.Dense(300, activation='tanh'),\n",
        "    layers.Dropout(0.3),\n",
        "    layers.Dense(1, activation='sigmoid')\n",
        "])\n",
        "\n",
        "# Use early stopping as a regularization technique to avoid overfitting\n",
        "es = EarlyStopping(monitor = 'val_accuracy', mode = 'max', verbose = 1, patience = 10)\n",
        "mc = ModelCheckpoint('/content/gdrive/My Drive/best_model.h5', monitor = 'val_accuracy', mode = 'auto')\n",
        "\n",
        "# Compile the model\n",
        "model.compile(loss = 'binary_crossentropy', optimizer = 'adam', metrics = ['accuracy'])\n",
        "\n",
        "# Train the model on the training data\n",
        "history = model.fit(X_train, y_train, epochs = 20, batch_size = 2048, verbose = 1, validation_data = (X_val, y_val), callbacks = [es,mc])\n",
        "\n",
        "# Compute the training, validation, and testing accuracies of the classifier\n",
        "loss_train, accuracy_train = model.evaluate(X_train, y_train, verbose=2)\n",
        "loss_test, accuracy_test   = model.evaluate(X_test, y_test, verbose=2)\n",
        "loss_val, accuracy_val     = model.evaluate(X_val, y_val, verbose=2)\n",
        "\n",
        "print('Accuracy on train set:', accuracy_train)\n",
        "print('Accuracy on test set:', accuracy_test)\n",
        "print('Accuracy on validation set:', accuracy_val)"
      ],
      "metadata": {
        "id": "3Kxc6agXPGLH",
        "colab": {
          "base_uri": "https://localhost:8080/"
        },
        "outputId": "8feb5915-861f-432e-e4d5-57630989222c"
      },
      "execution_count": null,
      "outputs": [
        {
          "output_type": "stream",
          "name": "stdout",
          "text": [
            "Epoch 1/20\n",
            "279/279 [==============================] - 75s 263ms/step - loss: 0.6372 - accuracy: 0.6360 - val_loss: 0.5866 - val_accuracy: 0.6836\n",
            "Epoch 2/20\n",
            "279/279 [==============================] - 36s 129ms/step - loss: 0.5747 - accuracy: 0.6958 - val_loss: 0.5486 - val_accuracy: 0.7152\n",
            "Epoch 3/20\n",
            "279/279 [==============================] - 38s 138ms/step - loss: 0.5514 - accuracy: 0.7137 - val_loss: 0.5383 - val_accuracy: 0.7184\n",
            "Epoch 4/20\n",
            "279/279 [==============================] - 36s 130ms/step - loss: 0.5412 - accuracy: 0.7213 - val_loss: 0.5297 - val_accuracy: 0.7272\n",
            "Epoch 5/20\n",
            "279/279 [==============================] - 37s 134ms/step - loss: 0.5348 - accuracy: 0.7263 - val_loss: 0.5261 - val_accuracy: 0.7288\n",
            "Epoch 6/20\n",
            "279/279 [==============================] - 37s 134ms/step - loss: 0.5308 - accuracy: 0.7283 - val_loss: 0.5198 - val_accuracy: 0.7318\n",
            "Epoch 7/20\n",
            "279/279 [==============================] - 38s 136ms/step - loss: 0.5276 - accuracy: 0.7304 - val_loss: 0.5187 - val_accuracy: 0.7356\n",
            "Epoch 8/20\n",
            "279/279 [==============================] - 36s 128ms/step - loss: 0.5245 - accuracy: 0.7330 - val_loss: 0.5165 - val_accuracy: 0.7332\n",
            "Epoch 9/20\n",
            "279/279 [==============================] - 38s 138ms/step - loss: 0.5224 - accuracy: 0.7342 - val_loss: 0.5136 - val_accuracy: 0.7376\n",
            "Epoch 10/20\n",
            "279/279 [==============================] - 36s 128ms/step - loss: 0.5199 - accuracy: 0.7363 - val_loss: 0.5114 - val_accuracy: 0.7385\n",
            "Epoch 11/20\n",
            "279/279 [==============================] - 38s 135ms/step - loss: 0.5182 - accuracy: 0.7373 - val_loss: 0.5111 - val_accuracy: 0.7398\n",
            "Epoch 12/20\n",
            "279/279 [==============================] - 37s 131ms/step - loss: 0.5170 - accuracy: 0.7380 - val_loss: 0.5102 - val_accuracy: 0.7369\n",
            "Epoch 13/20\n",
            "279/279 [==============================] - 38s 138ms/step - loss: 0.5154 - accuracy: 0.7393 - val_loss: 0.5097 - val_accuracy: 0.7398\n",
            "Epoch 14/20\n",
            "279/279 [==============================] - 36s 130ms/step - loss: 0.5137 - accuracy: 0.7402 - val_loss: 0.5087 - val_accuracy: 0.7443\n",
            "Epoch 15/20\n",
            "279/279 [==============================] - 39s 139ms/step - loss: 0.5127 - accuracy: 0.7413 - val_loss: 0.5046 - val_accuracy: 0.7434\n",
            "Epoch 16/20\n",
            "279/279 [==============================] - 37s 131ms/step - loss: 0.5111 - accuracy: 0.7420 - val_loss: 0.5050 - val_accuracy: 0.7446\n",
            "Epoch 17/20\n",
            "279/279 [==============================] - 38s 136ms/step - loss: 0.5095 - accuracy: 0.7433 - val_loss: 0.5039 - val_accuracy: 0.7445\n",
            "Epoch 18/20\n",
            "279/279 [==============================] - 36s 129ms/step - loss: 0.5083 - accuracy: 0.7437 - val_loss: 0.5028 - val_accuracy: 0.7445\n",
            "Epoch 19/20\n",
            "279/279 [==============================] - 38s 136ms/step - loss: 0.5068 - accuracy: 0.7455 - val_loss: 0.5038 - val_accuracy: 0.7441\n",
            "Epoch 20/20\n",
            "279/279 [==============================] - 38s 137ms/step - loss: 0.5057 - accuracy: 0.7459 - val_loss: 0.5017 - val_accuracy: 0.7480\n",
            "17825/17825 - 43s - loss: 0.4864 - accuracy: 0.7593 - 43s/epoch - 2ms/step\n",
            "469/469 - 1s - loss: 0.4956 - accuracy: 0.7552 - 1s/epoch - 3ms/step\n",
            "458/458 - 2s - loss: 0.5017 - accuracy: 0.7480 - 2s/epoch - 4ms/step\n",
            "Accuracy on train set: 0.7593390941619873\n",
            "Accuracy on test set: 0.7552000284194946\n",
            "Accuracy on validation set: 0.7479658126831055\n"
          ]
        }
      ]
    },
    {
      "cell_type": "code",
      "source": [
        "# Visualize our neural network model\n",
        "from ann_visualizer.visualize import ann_viz\n",
        "ann_viz(model, title = \"Neural Network Model6\", view = True, filename = \"model6\")"
      ],
      "metadata": {
        "id": "wWMYg7x1PUFk"
      },
      "execution_count": null,
      "outputs": []
    },
    {
      "cell_type": "code",
      "source": [
        "# Print the model summary\n",
        "model.summary()"
      ],
      "metadata": {
        "id": "SPwSkBnCS8dY",
        "colab": {
          "base_uri": "https://localhost:8080/"
        },
        "outputId": "7c7d364f-4d09-43c3-d2ec-6762ec6aa926"
      },
      "execution_count": null,
      "outputs": [
        {
          "output_type": "stream",
          "name": "stdout",
          "text": [
            "Model: \"sequential_3\"\n",
            "_________________________________________________________________\n",
            " Layer (type)                Output Shape              Param #   \n",
            "=================================================================\n",
            " dense_15 (Dense)            (None, 300)               8700      \n",
            "                                                                 \n",
            " dropout_12 (Dropout)        (None, 300)               0         \n",
            "                                                                 \n",
            " dense_16 (Dense)            (None, 300)               90300     \n",
            "                                                                 \n",
            " dropout_13 (Dropout)        (None, 300)               0         \n",
            "                                                                 \n",
            " dense_17 (Dense)            (None, 300)               90300     \n",
            "                                                                 \n",
            " dropout_14 (Dropout)        (None, 300)               0         \n",
            "                                                                 \n",
            " dense_18 (Dense)            (None, 300)               90300     \n",
            "                                                                 \n",
            " dropout_15 (Dropout)        (None, 300)               0         \n",
            "                                                                 \n",
            " dense_19 (Dense)            (None, 1)                 301       \n",
            "                                                                 \n",
            "=================================================================\n",
            "Total params: 279,901\n",
            "Trainable params: 279,901\n",
            "Non-trainable params: 0\n",
            "_________________________________________________________________\n"
          ]
        }
      ]
    },
    {
      "cell_type": "code",
      "source": [
        "# Plotting training and validation losses\n",
        "print(f\"Final loss: {history.history['loss'][-1]}\")\n",
        "plt.plot(history.history['loss'])\n",
        "plt.plot(history.history['val_loss'])\n",
        "plt.title('model loss')\n",
        "plt.ylabel('loss')\n",
        "plt.xlabel('epoch')\n",
        "plt.legend(['training', 'validation'])\n",
        "plt.grid()\n",
        "plt.show()"
      ],
      "metadata": {
        "id": "r6FXYGvaTDSv",
        "colab": {
          "base_uri": "https://localhost:8080/",
          "height": 489
        },
        "outputId": "780f9ea3-d7f2-46d6-ee93-76882f694c5f"
      },
      "execution_count": null,
      "outputs": [
        {
          "output_type": "stream",
          "name": "stdout",
          "text": [
            "Final loss: 0.5056604743003845\n"
          ]
        },
        {
          "output_type": "display_data",
          "data": {
            "text/plain": [
              "<Figure size 640x480 with 1 Axes>"
            ],
            "image/png": "[encoded data removed]"
          },
          "metadata": {}
        }
      ]
    },
    {
      "cell_type": "code",
      "source": [
        "# Predict the class labels of the test data\n",
        "y_pred = model.predict(X_test)\n",
        "for i in range(len(y_pred)):\n",
        "  if y_pred[i] > 0.5:\n",
        "     y_pred[i] = 1\n",
        "  else:\n",
        "     y_pred[i] = 0\n",
        "\n",
        "# Display confusion matrix and classification report for the test data\n",
        "print('Classification Report:')\n",
        "print(classification_report(y_test, y_pred))\n",
        "print('Confusion Matrix:')\n",
        "print(confusion_matrix(y_test, y_pred))"
      ],
      "metadata": {
        "id": "qNQGefp-TUws",
        "colab": {
          "base_uri": "https://localhost:8080/"
        },
        "outputId": "4ddbdcfd-875a-4363-a567-500ad8f5a3b0"
      },
      "execution_count": null,
      "outputs": [
        {
          "output_type": "stream",
          "name": "stdout",
          "text": [
            "469/469 [==============================] - 1s 3ms/step\n",
            "Classification Report:\n",
            "              precision    recall  f1-score   support\n",
            "\n",
            "         0.0       0.74      0.72      0.73      6953\n",
            "         1.0       0.77      0.78      0.77      8047\n",
            "\n",
            "    accuracy                           0.76     15000\n",
            "   macro avg       0.75      0.75      0.75     15000\n",
            "weighted avg       0.75      0.76      0.75     15000\n",
            "\n",
            "Confusion Matrix:\n",
            "[[5024 1929]\n",
            " [1743 6304]]\n"
          ]
        }
      ]
    },
    {
      "cell_type": "code",
      "source": [
        "# Model 7: using neural networks with 4 hidden layers using ReLU, without dropout and epochs = 50\n",
        "\n",
        "# Build the model\n",
        "model = keras.Sequential([\n",
        "    layers.Dense(300, activation='relu', input_shape=(28,)),\n",
        "    layers.Dense(300, activation='relu'),\n",
        "    layers.Dense(300, activation='relu'),\n",
        "    layers.Dense(300, activation='relu'),\n",
        "    layers.Dense(1, activation='sigmoid')\n",
        "])\n",
        "\n",
        "# Use early stopping as a regularization technique to avoid overfitting\n",
        "es = EarlyStopping(monitor = 'val_accuracy', mode = 'max', verbose = 1, patience = 10)\n",
        "mc = ModelCheckpoint('/content/gdrive/My Drive/best_model.h5', monitor = 'val_accuracy', mode = 'auto')\n",
        "\n",
        "# Compile the model\n",
        "model.compile(loss = 'binary_crossentropy', optimizer = 'adam', metrics = ['accuracy'])\n",
        "\n",
        "# Train the model on the training data\n",
        "history = model.fit(X_train, y_train, epochs = 50, batch_size = 2048, verbose = 1, validation_data = (X_val, y_val), callbacks = [es,mc])\n",
        "\n",
        "# Compute the training, validation, and testing accuracies of the classifier\n",
        "loss_train, accuracy_train = model.evaluate(X_train, y_train, verbose=2)\n",
        "loss_test, accuracy_test   = model.evaluate(X_test, y_test, verbose=2)\n",
        "loss_val, accuracy_val     = model.evaluate(X_val, y_val, verbose=2)\n",
        "\n",
        "print('Accuracy on train set:', accuracy_train)\n",
        "print('Accuracy on test set:', accuracy_test)\n",
        "print('Accuracy on validation set:', accuracy_val)"
      ],
      "metadata": {
        "id": "coXu0kDJPXR0",
        "colab": {
          "base_uri": "https://localhost:8080/"
        },
        "outputId": "07fe91a9-40ef-4901-f7f4-9c00842a5686"
      },
      "execution_count": null,
      "outputs": [
        {
          "output_type": "stream",
          "name": "stdout",
          "text": [
            "Epoch 1/50\n",
            "279/279 [==============================] - 28s 98ms/step - loss: 0.5778 - accuracy: 0.6909 - val_loss: 0.5502 - val_accuracy: 0.7149\n",
            "Epoch 2/50\n",
            "279/279 [==============================] - 26s 95ms/step - loss: 0.5322 - accuracy: 0.7294 - val_loss: 0.5302 - val_accuracy: 0.7255\n",
            "Epoch 3/50\n",
            "279/279 [==============================] - 25s 91ms/step - loss: 0.5153 - accuracy: 0.7403 - val_loss: 0.5203 - val_accuracy: 0.7320\n",
            "Epoch 4/50\n",
            "279/279 [==============================] - 27s 98ms/step - loss: 0.5053 - accuracy: 0.7469 - val_loss: 0.5167 - val_accuracy: 0.7361\n",
            "Epoch 5/50\n",
            "279/279 [==============================] - 27s 98ms/step - loss: 0.4977 - accuracy: 0.7510 - val_loss: 0.5114 - val_accuracy: 0.7395\n",
            "Epoch 6/50\n",
            "279/279 [==============================] - 27s 98ms/step - loss: 0.4915 - accuracy: 0.7555 - val_loss: 0.5082 - val_accuracy: 0.7425\n",
            "Epoch 7/50\n",
            "279/279 [==============================] - 25s 90ms/step - loss: 0.4857 - accuracy: 0.7590 - val_loss: 0.5083 - val_accuracy: 0.7426\n",
            "Epoch 8/50\n",
            "279/279 [==============================] - 27s 96ms/step - loss: 0.4797 - accuracy: 0.7626 - val_loss: 0.5038 - val_accuracy: 0.7429\n",
            "Epoch 9/50\n",
            "279/279 [==============================] - 27s 98ms/step - loss: 0.4746 - accuracy: 0.7659 - val_loss: 0.5060 - val_accuracy: 0.7465\n",
            "Epoch 10/50\n",
            "279/279 [==============================] - 27s 97ms/step - loss: 0.4698 - accuracy: 0.7686 - val_loss: 0.5128 - val_accuracy: 0.7386\n",
            "Epoch 11/50\n",
            "279/279 [==============================] - 26s 92ms/step - loss: 0.4645 - accuracy: 0.7726 - val_loss: 0.5064 - val_accuracy: 0.7497\n",
            "Epoch 12/50\n",
            "279/279 [==============================] - 26s 92ms/step - loss: 0.4594 - accuracy: 0.7756 - val_loss: 0.5068 - val_accuracy: 0.7494\n",
            "Epoch 13/50\n",
            "279/279 [==============================] - 27s 98ms/step - loss: 0.4542 - accuracy: 0.7785 - val_loss: 0.5106 - val_accuracy: 0.7472\n",
            "Epoch 14/50\n",
            "279/279 [==============================] - 27s 98ms/step - loss: 0.4478 - accuracy: 0.7824 - val_loss: 0.5142 - val_accuracy: 0.7477\n",
            "Epoch 15/50\n",
            "279/279 [==============================] - 26s 95ms/step - loss: 0.4428 - accuracy: 0.7856 - val_loss: 0.5196 - val_accuracy: 0.7470\n",
            "Epoch 16/50\n",
            "279/279 [==============================] - 34s 120ms/step - loss: 0.4365 - accuracy: 0.7889 - val_loss: 0.5189 - val_accuracy: 0.7454\n",
            "Epoch 17/50\n",
            "279/279 [==============================] - 25s 91ms/step - loss: 0.4312 - accuracy: 0.7926 - val_loss: 0.5261 - val_accuracy: 0.7462\n",
            "Epoch 18/50\n",
            "279/279 [==============================] - 26s 94ms/step - loss: 0.4248 - accuracy: 0.7962 - val_loss: 0.5272 - val_accuracy: 0.7419\n",
            "Epoch 19/50\n",
            "279/279 [==============================] - 27s 98ms/step - loss: 0.4174 - accuracy: 0.8003 - val_loss: 0.5332 - val_accuracy: 0.7452\n",
            "Epoch 20/50\n",
            "279/279 [==============================] - 28s 99ms/step - loss: 0.4119 - accuracy: 0.8035 - val_loss: 0.5459 - val_accuracy: 0.7406\n",
            "Epoch 21/50\n",
            "279/279 [==============================] - 26s 94ms/step - loss: 0.4051 - accuracy: 0.8075 - val_loss: 0.5446 - val_accuracy: 0.7390\n",
            "Epoch 21: early stopping\n",
            "17825/17825 - 43s - loss: 0.3854 - accuracy: 0.8204 - 43s/epoch - 2ms/step\n",
            "469/469 - 1s - loss: 0.5365 - accuracy: 0.7398 - 1s/epoch - 2ms/step\n",
            "458/458 - 1s - loss: 0.5446 - accuracy: 0.7390 - 1s/epoch - 2ms/step\n",
            "Accuracy on train set: 0.8203642964363098\n",
            "Accuracy on test set: 0.739799976348877\n",
            "Accuracy on validation set: 0.7390085458755493\n"
          ]
        }
      ]
    },
    {
      "cell_type": "code",
      "source": [
        "# Visualize our neural network model\n",
        "from ann_visualizer.visualize import ann_viz\n",
        "ann_viz(model, title = \"Neural Network Model7\", view = True, filename = \"model7\")"
      ],
      "metadata": {
        "id": "szLU3i2VQdBy"
      },
      "execution_count": null,
      "outputs": []
    },
    {
      "cell_type": "code",
      "source": [
        "# Print the model summary\n",
        "model.summary()"
      ],
      "metadata": {
        "id": "GMQFHPFDS7mW",
        "colab": {
          "base_uri": "https://localhost:8080/"
        },
        "outputId": "80dd195e-3c19-4166-def5-8f0b76f4ca73"
      },
      "execution_count": null,
      "outputs": [
        {
          "output_type": "stream",
          "name": "stdout",
          "text": [
            "Model: \"sequential_4\"\n",
            "_________________________________________________________________\n",
            " Layer (type)                Output Shape              Param #   \n",
            "=================================================================\n",
            " dense_20 (Dense)            (None, 300)               8700      \n",
            "                                                                 \n",
            " dense_21 (Dense)            (None, 300)               90300     \n",
            "                                                                 \n",
            " dense_22 (Dense)            (None, 300)               90300     \n",
            "                                                                 \n",
            " dense_23 (Dense)            (None, 300)               90300     \n",
            "                                                                 \n",
            " dense_24 (Dense)            (None, 1)                 301       \n",
            "                                                                 \n",
            "=================================================================\n",
            "Total params: 279,901\n",
            "Trainable params: 279,901\n",
            "Non-trainable params: 0\n",
            "_________________________________________________________________\n"
          ]
        }
      ]
    },
    {
      "cell_type": "code",
      "source": [
        "# Plotting training and validation losses\n",
        "print(f\"Final loss: {history.history['loss'][-1]}\")\n",
        "plt.plot(history.history['loss'])\n",
        "plt.plot(history.history['val_loss'])\n",
        "plt.title('model loss')\n",
        "plt.ylabel('loss')\n",
        "plt.xlabel('epoch')\n",
        "plt.legend(['training', 'validation'])\n",
        "plt.grid()\n",
        "plt.show()"
      ],
      "metadata": {
        "id": "X9qi46jTTEE1",
        "colab": {
          "base_uri": "https://localhost:8080/",
          "height": 489
        },
        "outputId": "f5b64624-195a-424e-8f49-f6ffc27d825b"
      },
      "execution_count": null,
      "outputs": [
        {
          "output_type": "stream",
          "name": "stdout",
          "text": [
            "Final loss: 0.40506142377853394\n"
          ]
        },
        {
          "output_type": "display_data",
          "data": {
            "text/plain": [
              "<Figure size 640x480 with 1 Axes>"
            ],
            "image/png": "[encoded data removed]"
          },
          "metadata": {}
        }
      ]
    },
    {
      "cell_type": "code",
      "source": [
        "# Predict the class labels of the test data\n",
        "y_pred = model.predict(X_test)\n",
        "for i in range(len(y_pred)):\n",
        "  if y_pred[i] > 0.5:\n",
        "     y_pred[i] = 1\n",
        "  else:\n",
        "     y_pred[i] = 0\n",
        "\n",
        "# Display confusion matrix and classification report for the test data\n",
        "print('Classification Report:')\n",
        "print(classification_report(y_test, y_pred))\n",
        "print('Confusion Matrix:')\n",
        "print(confusion_matrix(y_test, y_pred))"
      ],
      "metadata": {
        "id": "QQRNGCIaTTSS",
        "colab": {
          "base_uri": "https://localhost:8080/"
        },
        "outputId": "6e2e7955-e167-445c-ccd4-73621880ef04"
      },
      "execution_count": null,
      "outputs": [
        {
          "output_type": "stream",
          "name": "stdout",
          "text": [
            "469/469 [==============================] - 2s 4ms/step\n",
            "Classification Report:\n",
            "              precision    recall  f1-score   support\n",
            "\n",
            "         0.0       0.72      0.71      0.72      6953\n",
            "         1.0       0.76      0.76      0.76      8047\n",
            "\n",
            "    accuracy                           0.74     15000\n",
            "   macro avg       0.74      0.74      0.74     15000\n",
            "weighted avg       0.74      0.74      0.74     15000\n",
            "\n",
            "Confusion Matrix:\n",
            "[[4966 1987]\n",
            " [1916 6131]]\n"
          ]
        }
      ]
    },
    {
      "cell_type": "code",
      "source": [
        "# Model 8: using neural networks with 4 hidden layers using ReLU, with dropout and epochs = 50 (this is the Best Model!!)\n",
        "\n",
        "# Build the model\n",
        "model = keras.Sequential([\n",
        "    layers.Dense(300, activation='relu', input_shape=(28,)),\n",
        "    layers.Dropout(0.2),\n",
        "    layers.Dense(300, activation='relu'),\n",
        "    layers.Dropout(0.12),\n",
        "    layers.Dense(300, activation='relu'),\n",
        "    layers.Dropout(0.12),\n",
        "    layers.Dense(300, activation='relu'),\n",
        "    layers.Dropout(0.3),\n",
        "    layers.Dense(1, activation='sigmoid')\n",
        "])\n",
        "\n",
        "# Use early stopping as a regularization technique to avoid overfitting\n",
        "es = EarlyStopping(monitor = 'val_accuracy', mode = 'max', verbose = 1, patience = 10)\n",
        "mc = ModelCheckpoint('/content/gdrive/My Drive/best_model.h5', monitor = 'val_accuracy', mode = 'auto')\n",
        "\n",
        "# Compile the model\n",
        "model.compile(loss = 'binary_crossentropy', optimizer = 'adam', metrics = ['accuracy'])\n",
        "\n",
        "# Train the model on the training data\n",
        "history = model.fit(X_train, y_train, epochs = 50, batch_size = 2048, verbose = 1, validation_data = (X_val, y_val), callbacks = [es,mc])\n",
        "\n",
        "# Compute the training, validation, and testing accuracies of the classifier\n",
        "loss_train, accuracy_train = model.evaluate(X_train, y_train, verbose=2)\n",
        "loss_test, accuracy_test   = model.evaluate(X_test, y_test, verbose=2)\n",
        "loss_val, accuracy_val     = model.evaluate(X_val, y_val, verbose=2)\n",
        "\n",
        "print('Accuracy on train set:', accuracy_train)\n",
        "print('Accuracy on test set:', accuracy_test)\n",
        "print('Accuracy on validation set:', accuracy_val)"
      ],
      "metadata": {
        "id": "crfEvc2IQgqG",
        "colab": {
          "base_uri": "https://localhost:8080/"
        },
        "outputId": "510f004c-402c-4086-f524-47c2224c5616"
      },
      "execution_count": null,
      "outputs": [
        {
          "output_type": "stream",
          "name": "stdout",
          "text": [
            "Epoch 1/50\n",
            "279/279 [==============================] - 43s 141ms/step - loss: 0.5986 - accuracy: 0.6732 - val_loss: 0.5551 - val_accuracy: 0.7115\n",
            "Epoch 2/50\n",
            "279/279 [==============================] - 31s 112ms/step - loss: 0.5543 - accuracy: 0.7131 - val_loss: 0.5386 - val_accuracy: 0.7227\n",
            "Epoch 3/50\n",
            "279/279 [==============================] - 33s 118ms/step - loss: 0.5379 - accuracy: 0.7253 - val_loss: 0.5285 - val_accuracy: 0.7282\n",
            "Epoch 4/50\n",
            "279/279 [==============================] - 32s 116ms/step - loss: 0.5282 - accuracy: 0.7314 - val_loss: 0.5209 - val_accuracy: 0.7335\n",
            "Epoch 5/50\n",
            "279/279 [==============================] - 32s 115ms/step - loss: 0.5227 - accuracy: 0.7353 - val_loss: 0.5162 - val_accuracy: 0.7369\n",
            "Epoch 6/50\n",
            "279/279 [==============================] - 32s 114ms/step - loss: 0.5172 - accuracy: 0.7388 - val_loss: 0.5114 - val_accuracy: 0.7385\n",
            "Epoch 7/50\n",
            "279/279 [==============================] - 32s 113ms/step - loss: 0.5132 - accuracy: 0.7412 - val_loss: 0.5091 - val_accuracy: 0.7423\n",
            "Epoch 8/50\n",
            "279/279 [==============================] - 31s 112ms/step - loss: 0.5098 - accuracy: 0.7433 - val_loss: 0.5078 - val_accuracy: 0.7415\n",
            "Epoch 9/50\n",
            "279/279 [==============================] - 31s 112ms/step - loss: 0.5076 - accuracy: 0.7455 - val_loss: 0.5039 - val_accuracy: 0.7432\n",
            "Epoch 10/50\n",
            "279/279 [==============================] - 31s 113ms/step - loss: 0.5042 - accuracy: 0.7475 - val_loss: 0.5023 - val_accuracy: 0.7463\n",
            "Epoch 11/50\n",
            "279/279 [==============================] - 35s 125ms/step - loss: 0.5027 - accuracy: 0.7485 - val_loss: 0.5024 - val_accuracy: 0.7465\n",
            "Epoch 12/50\n",
            "279/279 [==============================] - 31s 112ms/step - loss: 0.5010 - accuracy: 0.7494 - val_loss: 0.5003 - val_accuracy: 0.7446\n",
            "Epoch 13/50\n",
            "279/279 [==============================] - 31s 112ms/step - loss: 0.4987 - accuracy: 0.7515 - val_loss: 0.5010 - val_accuracy: 0.7486\n",
            "Epoch 14/50\n",
            "279/279 [==============================] - 31s 112ms/step - loss: 0.4973 - accuracy: 0.7523 - val_loss: 0.4985 - val_accuracy: 0.7489\n",
            "Epoch 15/50\n",
            "279/279 [==============================] - 31s 112ms/step - loss: 0.4951 - accuracy: 0.7536 - val_loss: 0.4972 - val_accuracy: 0.7512\n",
            "Epoch 16/50\n",
            "279/279 [==============================] - 32s 116ms/step - loss: 0.4940 - accuracy: 0.7541 - val_loss: 0.4972 - val_accuracy: 0.7484\n",
            "Epoch 17/50\n",
            "279/279 [==============================] - 32s 114ms/step - loss: 0.4923 - accuracy: 0.7553 - val_loss: 0.4977 - val_accuracy: 0.7497\n",
            "Epoch 18/50\n",
            "279/279 [==============================] - 31s 112ms/step - loss: 0.4916 - accuracy: 0.7557 - val_loss: 0.4972 - val_accuracy: 0.7515\n",
            "Epoch 19/50\n",
            "279/279 [==============================] - 31s 112ms/step - loss: 0.4901 - accuracy: 0.7569 - val_loss: 0.4956 - val_accuracy: 0.7535\n",
            "Epoch 20/50\n",
            "279/279 [==============================] - 31s 112ms/step - loss: 0.4888 - accuracy: 0.7575 - val_loss: 0.4970 - val_accuracy: 0.7511\n",
            "Epoch 21/50\n",
            "279/279 [==============================] - 32s 114ms/step - loss: 0.4876 - accuracy: 0.7587 - val_loss: 0.4949 - val_accuracy: 0.7547\n",
            "Epoch 22/50\n",
            "279/279 [==============================] - 33s 117ms/step - loss: 0.4864 - accuracy: 0.7591 - val_loss: 0.4963 - val_accuracy: 0.7508\n",
            "Epoch 23/50\n",
            "279/279 [==============================] - 31s 112ms/step - loss: 0.4854 - accuracy: 0.7596 - val_loss: 0.4942 - val_accuracy: 0.7522\n",
            "Epoch 24/50\n",
            "279/279 [==============================] - 31s 113ms/step - loss: 0.4846 - accuracy: 0.7603 - val_loss: 0.4918 - val_accuracy: 0.7556\n",
            "Epoch 25/50\n",
            "279/279 [==============================] - 31s 112ms/step - loss: 0.4836 - accuracy: 0.7608 - val_loss: 0.4927 - val_accuracy: 0.7515\n",
            "Epoch 26/50\n",
            "279/279 [==============================] - 32s 113ms/step - loss: 0.4825 - accuracy: 0.7617 - val_loss: 0.4939 - val_accuracy: 0.7540\n",
            "Epoch 27/50\n",
            "279/279 [==============================] - 33s 118ms/step - loss: 0.4820 - accuracy: 0.7612 - val_loss: 0.4928 - val_accuracy: 0.7512\n",
            "Epoch 28/50\n",
            "279/279 [==============================] - 32s 113ms/step - loss: 0.4810 - accuracy: 0.7627 - val_loss: 0.4955 - val_accuracy: 0.7526\n",
            "Epoch 29/50\n",
            "279/279 [==============================] - 32s 114ms/step - loss: 0.4799 - accuracy: 0.7629 - val_loss: 0.4917 - val_accuracy: 0.7559\n",
            "Epoch 30/50\n",
            "279/279 [==============================] - 32s 113ms/step - loss: 0.4789 - accuracy: 0.7635 - val_loss: 0.4932 - val_accuracy: 0.7513\n",
            "Epoch 31/50\n",
            "279/279 [==============================] - 32s 115ms/step - loss: 0.4785 - accuracy: 0.7642 - val_loss: 0.4932 - val_accuracy: 0.7543\n",
            "Epoch 32/50\n",
            "279/279 [==============================] - 33s 117ms/step - loss: 0.4777 - accuracy: 0.7650 - val_loss: 0.4926 - val_accuracy: 0.7528\n",
            "Epoch 33/50\n",
            "279/279 [==============================] - 31s 113ms/step - loss: 0.4770 - accuracy: 0.7646 - val_loss: 0.4932 - val_accuracy: 0.7555\n",
            "Epoch 34/50\n",
            "279/279 [==============================] - 31s 113ms/step - loss: 0.4771 - accuracy: 0.7649 - val_loss: 0.4931 - val_accuracy: 0.7538\n",
            "Epoch 35/50\n",
            "279/279 [==============================] - 31s 112ms/step - loss: 0.4755 - accuracy: 0.7660 - val_loss: 0.4941 - val_accuracy: 0.7530\n",
            "Epoch 36/50\n",
            "279/279 [==============================] - 32s 116ms/step - loss: 0.4752 - accuracy: 0.7665 - val_loss: 0.4920 - val_accuracy: 0.7545\n",
            "Epoch 37/50\n",
            "279/279 [==============================] - 33s 117ms/step - loss: 0.4743 - accuracy: 0.7668 - val_loss: 0.4933 - val_accuracy: 0.7545\n",
            "Epoch 38/50\n",
            "279/279 [==============================] - 32s 113ms/step - loss: 0.4740 - accuracy: 0.7670 - val_loss: 0.4929 - val_accuracy: 0.7540\n",
            "Epoch 39/50\n",
            "279/279 [==============================] - 32s 114ms/step - loss: 0.4727 - accuracy: 0.7679 - val_loss: 0.4931 - val_accuracy: 0.7523\n",
            "Epoch 39: early stopping\n",
            "17825/17825 - 36s - loss: 0.4391 - accuracy: 0.7881 - 36s/epoch - 2ms/step\n",
            "469/469 - 1s - loss: 0.4878 - accuracy: 0.7591 - 828ms/epoch - 2ms/step\n",
            "458/458 - 1s - loss: 0.4931 - accuracy: 0.7523 - 815ms/epoch - 2ms/step\n",
            "Accuracy on train set: 0.788092315196991\n",
            "Accuracy on test set: 0.7591333389282227\n",
            "Accuracy on validation set: 0.7523418664932251\n"
          ]
        }
      ]
    },
    {
      "cell_type": "code",
      "source": [
        "# Visualize our neural network model\n",
        "from ann_visualizer.visualize import ann_viz\n",
        "ann_viz(model, title = \"Neural Network Model8\", view = True, filename = \"model8\")"
      ],
      "metadata": {
        "id": "LuhxrT4AQxzt"
      },
      "execution_count": null,
      "outputs": []
    },
    {
      "cell_type": "code",
      "source": [
        "# Print the model summary\n",
        "model.summary()"
      ],
      "metadata": {
        "id": "UE6gzBCgS61L",
        "colab": {
          "base_uri": "https://localhost:8080/"
        },
        "outputId": "bf435c96-a840-434d-f9c4-c5d93c0c068a"
      },
      "execution_count": null,
      "outputs": [
        {
          "output_type": "stream",
          "name": "stdout",
          "text": [
            "Model: \"sequential\"\n",
            "_________________________________________________________________\n",
            " Layer (type)                Output Shape              Param #   \n",
            "=================================================================\n",
            " dense (Dense)               (None, 300)               8700      \n",
            "                                                                 \n",
            " dropout (Dropout)           (None, 300)               0         \n",
            "                                                                 \n",
            " dense_1 (Dense)             (None, 300)               90300     \n",
            "                                                                 \n",
            " dropout_1 (Dropout)         (None, 300)               0         \n",
            "                                                                 \n",
            " dense_2 (Dense)             (None, 300)               90300     \n",
            "                                                                 \n",
            " dropout_2 (Dropout)         (None, 300)               0         \n",
            "                                                                 \n",
            " dense_3 (Dense)             (None, 300)               90300     \n",
            "                                                                 \n",
            " dropout_3 (Dropout)         (None, 300)               0         \n",
            "                                                                 \n",
            " dense_4 (Dense)             (None, 1)                 301       \n",
            "                                                                 \n",
            "=================================================================\n",
            "Total params: 279,901\n",
            "Trainable params: 279,901\n",
            "Non-trainable params: 0\n",
            "_________________________________________________________________\n"
          ]
        }
      ]
    },
    {
      "cell_type": "code",
      "source": [
        "# Plotting training and validation losses\n",
        "print(f\"Final loss: {history.history['loss'][-1]}\")\n",
        "plt.plot(history.history['loss'])\n",
        "plt.plot(history.history['val_loss'])\n",
        "plt.title('model loss')\n",
        "plt.ylabel('loss')\n",
        "plt.xlabel('epoch')\n",
        "plt.legend(['training', 'validation'])\n",
        "plt.grid()\n",
        "plt.show()"
      ],
      "metadata": {
        "id": "bS3a2CuVTE8o",
        "colab": {
          "base_uri": "https://localhost:8080/",
          "height": 489
        },
        "outputId": "33691475-86aa-4c70-9bb5-bf2bb12b97e5"
      },
      "execution_count": null,
      "outputs": [
        {
          "output_type": "stream",
          "name": "stdout",
          "text": [
            "Final loss: 0.47274723649024963\n"
          ]
        },
        {
          "output_type": "display_data",
          "data": {
            "text/plain": [
              "<Figure size 640x480 with 1 Axes>"
            ],
            "image/png": "[encoded data removed]"
          },
          "metadata": {}
        }
      ]
    },
    {
      "cell_type": "code",
      "source": [
        "# Predict the class labels of the test data\n",
        "y_pred = model.predict(X_test)\n",
        "for i in range(len(y_pred)):\n",
        "  if y_pred[i] > 0.5:\n",
        "     y_pred[i] = 1\n",
        "  else:\n",
        "     y_pred[i] = 0\n",
        "\n",
        "# Display confusion matrix and classification report for the test data\n",
        "print('Classification Report:')\n",
        "print(classification_report(y_test, y_pred))\n",
        "print('Confusion Matrix:')\n",
        "print(confusion_matrix(y_test, y_pred))"
      ],
      "metadata": {
        "id": "5BhQ1GLkTSPK",
        "colab": {
          "base_uri": "https://localhost:8080/"
        },
        "outputId": "5819b51c-5aed-44d6-afeb-aad7f2cd7c17"
      },
      "execution_count": null,
      "outputs": [
        {
          "output_type": "stream",
          "name": "stdout",
          "text": [
            "469/469 [==============================] - 2s 3ms/step\n",
            "Classification Report:\n",
            "              precision    recall  f1-score   support\n",
            "\n",
            "         0.0       0.74      0.73      0.74      6953\n",
            "         1.0       0.77      0.78      0.78      8047\n",
            "\n",
            "    accuracy                           0.76     15000\n",
            "   macro avg       0.76      0.76      0.76     15000\n",
            "weighted avg       0.76      0.76      0.76     15000\n",
            "\n",
            "Confusion Matrix:\n",
            "[[5109 1844]\n",
            " [1769 6278]]\n"
          ]
        }
      ]
    },
    {
      "cell_type": "code",
      "source": [
        "# Model 9: using neural networks with 4 hidden layers using ReLU, with dropout and epochs = 70\n",
        "\n",
        "# Build the model\n",
        "model = keras.Sequential([\n",
        "    layers.Dense(300, activation='relu', input_shape=(28,)),\n",
        "    layers.Dropout(0.2),\n",
        "    layers.Dense(300, activation='relu'),\n",
        "    layers.Dropout(0.12),\n",
        "    layers.Dense(300, activation='relu'),\n",
        "    layers.Dropout(0.12),\n",
        "    layers.Dense(300, activation='relu'),\n",
        "    layers.Dropout(0.3),\n",
        "    layers.Dense(1, activation='sigmoid')\n",
        "])\n",
        "\n",
        "# Use early stopping as a regularization technique to avoid overfitting\n",
        "es = EarlyStopping(monitor = 'val_accuracy', mode = 'max', verbose = 1, patience = 10)\n",
        "mc = ModelCheckpoint('/content/gdrive/My Drive/best_model.h5', monitor = 'val_accuracy', mode = 'auto')\n",
        "\n",
        "# Compile the model\n",
        "model.compile(loss = 'binary_crossentropy', optimizer = 'adam', metrics = ['accuracy'])\n",
        "\n",
        "# Train the model on the training data\n",
        "history = model.fit(X_train, y_train, epochs = 70, batch_size = 2048, verbose = 1, validation_data = (X_val, y_val), callbacks = [es,mc])\n",
        "\n",
        "# Compute the training, validation, and testing accuracies of the classifier\n",
        "loss_train, accuracy_train = model.evaluate(X_train, y_train, verbose=2)\n",
        "loss_test, accuracy_test   = model.evaluate(X_test, y_test, verbose=2)\n",
        "loss_val, accuracy_val     = model.evaluate(X_val, y_val, verbose=2)\n",
        "\n",
        "print('Accuracy on train set:', accuracy_train)\n",
        "print('Accuracy on test set:', accuracy_test)\n",
        "print('Accuracy on validation set:', accuracy_val)"
      ],
      "metadata": {
        "id": "t79KRwA_SNRK",
        "colab": {
          "base_uri": "https://localhost:8080/"
        },
        "outputId": "7861ae4f-97d5-4d2a-88ef-e890760aa816"
      },
      "execution_count": null,
      "outputs": [
        {
          "output_type": "stream",
          "name": "stdout",
          "text": [
            "Epoch 1/70\n",
            "279/279 [==============================] - 33s 113ms/step - loss: 0.5973 - accuracy: 0.6750 - val_loss: 0.5555 - val_accuracy: 0.7084\n",
            "Epoch 2/70\n",
            "279/279 [==============================] - 31s 112ms/step - loss: 0.5535 - accuracy: 0.7142 - val_loss: 0.5366 - val_accuracy: 0.7262\n",
            "Epoch 3/70\n",
            "279/279 [==============================] - 32s 115ms/step - loss: 0.5377 - accuracy: 0.7254 - val_loss: 0.5249 - val_accuracy: 0.7303\n",
            "Epoch 4/70\n",
            "279/279 [==============================] - 32s 115ms/step - loss: 0.5280 - accuracy: 0.7315 - val_loss: 0.5187 - val_accuracy: 0.7353\n",
            "Epoch 5/70\n",
            "279/279 [==============================] - 31s 113ms/step - loss: 0.5215 - accuracy: 0.7355 - val_loss: 0.5134 - val_accuracy: 0.7402\n",
            "Epoch 6/70\n",
            "279/279 [==============================] - 31s 112ms/step - loss: 0.5164 - accuracy: 0.7389 - val_loss: 0.5109 - val_accuracy: 0.7383\n",
            "Epoch 7/70\n",
            "279/279 [==============================] - 31s 112ms/step - loss: 0.5127 - accuracy: 0.7416 - val_loss: 0.5073 - val_accuracy: 0.7402\n",
            "Epoch 8/70\n",
            "279/279 [==============================] - 31s 112ms/step - loss: 0.5097 - accuracy: 0.7441 - val_loss: 0.5030 - val_accuracy: 0.7432\n",
            "Epoch 9/70\n",
            "279/279 [==============================] - 33s 118ms/step - loss: 0.5071 - accuracy: 0.7455 - val_loss: 0.5017 - val_accuracy: 0.7450\n",
            "Epoch 10/70\n",
            "279/279 [==============================] - 36s 129ms/step - loss: 0.5042 - accuracy: 0.7473 - val_loss: 0.5018 - val_accuracy: 0.7463\n",
            "Epoch 11/70\n",
            "279/279 [==============================] - 31s 112ms/step - loss: 0.5024 - accuracy: 0.7490 - val_loss: 0.5015 - val_accuracy: 0.7457\n",
            "Epoch 12/70\n",
            "279/279 [==============================] - 33s 117ms/step - loss: 0.5005 - accuracy: 0.7503 - val_loss: 0.4999 - val_accuracy: 0.7456\n",
            "Epoch 13/70\n",
            "279/279 [==============================] - 32s 116ms/step - loss: 0.4985 - accuracy: 0.7508 - val_loss: 0.4985 - val_accuracy: 0.7482\n",
            "Epoch 14/70\n",
            "279/279 [==============================] - 32s 115ms/step - loss: 0.4969 - accuracy: 0.7522 - val_loss: 0.4988 - val_accuracy: 0.7482\n",
            "Epoch 15/70\n",
            "279/279 [==============================] - 31s 113ms/step - loss: 0.4956 - accuracy: 0.7532 - val_loss: 0.4975 - val_accuracy: 0.7489\n",
            "Epoch 16/70\n",
            "279/279 [==============================] - 31s 112ms/step - loss: 0.4939 - accuracy: 0.7543 - val_loss: 0.4938 - val_accuracy: 0.7520\n",
            "Epoch 17/70\n",
            "279/279 [==============================] - 33s 117ms/step - loss: 0.4924 - accuracy: 0.7554 - val_loss: 0.4949 - val_accuracy: 0.7496\n",
            "Epoch 18/70\n",
            "279/279 [==============================] - 31s 112ms/step - loss: 0.4912 - accuracy: 0.7561 - val_loss: 0.4944 - val_accuracy: 0.7511\n",
            "Epoch 19/70\n",
            "279/279 [==============================] - 31s 112ms/step - loss: 0.4901 - accuracy: 0.7572 - val_loss: 0.4945 - val_accuracy: 0.7519\n",
            "Epoch 20/70\n",
            "279/279 [==============================] - 31s 112ms/step - loss: 0.4890 - accuracy: 0.7574 - val_loss: 0.4939 - val_accuracy: 0.7526\n",
            "Epoch 21/70\n",
            "279/279 [==============================] - 31s 112ms/step - loss: 0.4874 - accuracy: 0.7589 - val_loss: 0.4952 - val_accuracy: 0.7521\n",
            "Epoch 22/70\n",
            "279/279 [==============================] - 33s 117ms/step - loss: 0.4870 - accuracy: 0.7588 - val_loss: 0.4932 - val_accuracy: 0.7508\n",
            "Epoch 23/70\n",
            "279/279 [==============================] - 32s 114ms/step - loss: 0.4857 - accuracy: 0.7602 - val_loss: 0.4924 - val_accuracy: 0.7508\n",
            "Epoch 24/70\n",
            "279/279 [==============================] - 31s 112ms/step - loss: 0.4845 - accuracy: 0.7601 - val_loss: 0.4934 - val_accuracy: 0.7515\n",
            "Epoch 25/70\n",
            "279/279 [==============================] - 31s 112ms/step - loss: 0.4842 - accuracy: 0.7605 - val_loss: 0.4915 - val_accuracy: 0.7532\n",
            "Epoch 26/70\n",
            "279/279 [==============================] - 31s 113ms/step - loss: 0.4822 - accuracy: 0.7620 - val_loss: 0.4914 - val_accuracy: 0.7515\n",
            "Epoch 27/70\n",
            "279/279 [==============================] - 32s 115ms/step - loss: 0.4817 - accuracy: 0.7620 - val_loss: 0.4909 - val_accuracy: 0.7538\n",
            "Epoch 28/70\n",
            "279/279 [==============================] - 33s 117ms/step - loss: 0.4809 - accuracy: 0.7629 - val_loss: 0.4914 - val_accuracy: 0.7536\n",
            "Epoch 29/70\n",
            "279/279 [==============================] - 31s 113ms/step - loss: 0.4797 - accuracy: 0.7636 - val_loss: 0.4905 - val_accuracy: 0.7527\n",
            "Epoch 30/70\n",
            "279/279 [==============================] - 31s 113ms/step - loss: 0.4794 - accuracy: 0.7638 - val_loss: 0.4901 - val_accuracy: 0.7530\n",
            "Epoch 31/70\n",
            "279/279 [==============================] - 31s 112ms/step - loss: 0.4785 - accuracy: 0.7640 - val_loss: 0.4940 - val_accuracy: 0.7534\n",
            "Epoch 32/70\n",
            "279/279 [==============================] - 32s 116ms/step - loss: 0.4779 - accuracy: 0.7647 - val_loss: 0.4902 - val_accuracy: 0.7549\n",
            "Epoch 33/70\n",
            "279/279 [==============================] - 32s 115ms/step - loss: 0.4770 - accuracy: 0.7651 - val_loss: 0.4934 - val_accuracy: 0.7509\n",
            "Epoch 34/70\n",
            "279/279 [==============================] - 31s 112ms/step - loss: 0.4761 - accuracy: 0.7658 - val_loss: 0.4912 - val_accuracy: 0.7523\n",
            "Epoch 35/70\n",
            "279/279 [==============================] - 32s 113ms/step - loss: 0.4757 - accuracy: 0.7654 - val_loss: 0.4919 - val_accuracy: 0.7528\n",
            "Epoch 36/70\n",
            "279/279 [==============================] - 31s 113ms/step - loss: 0.4749 - accuracy: 0.7661 - val_loss: 0.4919 - val_accuracy: 0.7542\n",
            "Epoch 37/70\n",
            "279/279 [==============================] - 33s 118ms/step - loss: 0.4748 - accuracy: 0.7665 - val_loss: 0.4923 - val_accuracy: 0.7547\n",
            "Epoch 38/70\n",
            "279/279 [==============================] - 32s 114ms/step - loss: 0.4739 - accuracy: 0.7672 - val_loss: 0.4923 - val_accuracy: 0.7517\n",
            "Epoch 39/70\n",
            "279/279 [==============================] - 31s 113ms/step - loss: 0.4731 - accuracy: 0.7674 - val_loss: 0.4924 - val_accuracy: 0.7537\n",
            "Epoch 40/70\n",
            "279/279 [==============================] - 31s 112ms/step - loss: 0.4720 - accuracy: 0.7679 - val_loss: 0.4923 - val_accuracy: 0.7532\n",
            "Epoch 41/70\n",
            "279/279 [==============================] - 31s 112ms/step - loss: 0.4717 - accuracy: 0.7684 - val_loss: 0.4929 - val_accuracy: 0.7525\n",
            "Epoch 42/70\n",
            "279/279 [==============================] - 32s 116ms/step - loss: 0.4708 - accuracy: 0.7689 - val_loss: 0.4918 - val_accuracy: 0.7565\n",
            "Epoch 43/70\n",
            "279/279 [==============================] - 32s 115ms/step - loss: 0.4706 - accuracy: 0.7695 - val_loss: 0.4929 - val_accuracy: 0.7541\n",
            "Epoch 44/70\n",
            "279/279 [==============================] - 32s 113ms/step - loss: 0.4699 - accuracy: 0.7694 - val_loss: 0.4940 - val_accuracy: 0.7536\n",
            "Epoch 45/70\n",
            "279/279 [==============================] - 31s 113ms/step - loss: 0.4695 - accuracy: 0.7693 - val_loss: 0.4929 - val_accuracy: 0.7566\n",
            "Epoch 46/70\n",
            "279/279 [==============================] - 32s 113ms/step - loss: 0.4692 - accuracy: 0.7696 - val_loss: 0.4951 - val_accuracy: 0.7575\n",
            "Epoch 47/70\n",
            "279/279 [==============================] - 32s 116ms/step - loss: 0.4684 - accuracy: 0.7703 - val_loss: 0.4943 - val_accuracy: 0.7536\n",
            "Epoch 48/70\n",
            "279/279 [==============================] - 32s 116ms/step - loss: 0.4681 - accuracy: 0.7709 - val_loss: 0.4939 - val_accuracy: 0.7532\n",
            "Epoch 49/70\n",
            "279/279 [==============================] - 32s 113ms/step - loss: 0.4676 - accuracy: 0.7709 - val_loss: 0.4913 - val_accuracy: 0.7588\n",
            "Epoch 50/70\n",
            "279/279 [==============================] - 32s 114ms/step - loss: 0.4667 - accuracy: 0.7713 - val_loss: 0.4926 - val_accuracy: 0.7562\n",
            "Epoch 51/70\n",
            "279/279 [==============================] - 32s 114ms/step - loss: 0.4666 - accuracy: 0.7717 - val_loss: 0.4927 - val_accuracy: 0.7551\n",
            "Epoch 52/70\n",
            "279/279 [==============================] - 33s 118ms/step - loss: 0.4659 - accuracy: 0.7721 - val_loss: 0.4936 - val_accuracy: 0.7575\n",
            "Epoch 53/70\n",
            "279/279 [==============================] - 32s 113ms/step - loss: 0.4657 - accuracy: 0.7720 - val_loss: 0.4927 - val_accuracy: 0.7567\n",
            "Epoch 54/70\n",
            "279/279 [==============================] - 31s 112ms/step - loss: 0.4654 - accuracy: 0.7726 - val_loss: 0.4959 - val_accuracy: 0.7546\n",
            "Epoch 55/70\n",
            "279/279 [==============================] - 32s 113ms/step - loss: 0.4653 - accuracy: 0.7720 - val_loss: 0.4954 - val_accuracy: 0.7546\n",
            "Epoch 56/70\n",
            "279/279 [==============================] - 31s 112ms/step - loss: 0.4646 - accuracy: 0.7727 - val_loss: 0.4957 - val_accuracy: 0.7525\n",
            "Epoch 57/70\n",
            "279/279 [==============================] - 33s 119ms/step - loss: 0.4639 - accuracy: 0.7730 - val_loss: 0.4962 - val_accuracy: 0.7541\n",
            "Epoch 58/70\n",
            "279/279 [==============================] - 31s 113ms/step - loss: 0.4635 - accuracy: 0.7737 - val_loss: 0.4942 - val_accuracy: 0.7543\n",
            "Epoch 59/70\n",
            "279/279 [==============================] - 32s 113ms/step - loss: 0.4634 - accuracy: 0.7733 - val_loss: 0.4930 - val_accuracy: 0.7538\n",
            "Epoch 59: early stopping\n",
            "17825/17825 - 35s - loss: 0.4234 - accuracy: 0.7986 - 35s/epoch - 2ms/step\n",
            "469/469 - 1s - loss: 0.4906 - accuracy: 0.7566 - 833ms/epoch - 2ms/step\n",
            "458/458 - 1s - loss: 0.4930 - accuracy: 0.7538 - 802ms/epoch - 2ms/step\n",
            "Accuracy on train set: 0.7986240386962891\n",
            "Accuracy on test set: 0.756600022315979\n",
            "Accuracy on validation set: 0.7538461685180664\n"
          ]
        }
      ]
    },
    {
      "cell_type": "code",
      "source": [
        "# Visualize our neural network model\n",
        "from ann_visualizer.visualize import ann_viz\n",
        "ann_viz(model, title = \"Neural Network Model9\", view = True, filename = \"model9\")"
      ],
      "metadata": {
        "id": "x0YLpbJGSRri"
      },
      "execution_count": null,
      "outputs": []
    },
    {
      "cell_type": "code",
      "source": [
        "# Print the model summary\n",
        "model.summary()"
      ],
      "metadata": {
        "id": "dxa_nkR3S577",
        "colab": {
          "base_uri": "https://localhost:8080/"
        },
        "outputId": "594988cd-16a2-44d1-b62b-6421060cee07"
      },
      "execution_count": null,
      "outputs": [
        {
          "output_type": "stream",
          "name": "stdout",
          "text": [
            "Model: \"sequential_1\"\n",
            "_________________________________________________________________\n",
            " Layer (type)                Output Shape              Param #   \n",
            "=================================================================\n",
            " dense_5 (Dense)             (None, 300)               8700      \n",
            "                                                                 \n",
            " dropout_4 (Dropout)         (None, 300)               0         \n",
            "                                                                 \n",
            " dense_6 (Dense)             (None, 300)               90300     \n",
            "                                                                 \n",
            " dropout_5 (Dropout)         (None, 300)               0         \n",
            "                                                                 \n",
            " dense_7 (Dense)             (None, 300)               90300     \n",
            "                                                                 \n",
            " dropout_6 (Dropout)         (None, 300)               0         \n",
            "                                                                 \n",
            " dense_8 (Dense)             (None, 300)               90300     \n",
            "                                                                 \n",
            " dropout_7 (Dropout)         (None, 300)               0         \n",
            "                                                                 \n",
            " dense_9 (Dense)             (None, 1)                 301       \n",
            "                                                                 \n",
            "=================================================================\n",
            "Total params: 279,901\n",
            "Trainable params: 279,901\n",
            "Non-trainable params: 0\n",
            "_________________________________________________________________\n"
          ]
        }
      ]
    },
    {
      "cell_type": "code",
      "source": [
        "# Plotting training and validation losses\n",
        "print(f\"Final loss: {history.history['loss'][-1]}\")\n",
        "plt.plot(history.history['loss'])\n",
        "plt.plot(history.history['val_loss'])\n",
        "plt.title('model loss')\n",
        "plt.ylabel('loss')\n",
        "plt.xlabel('epoch')\n",
        "plt.legend(['training', 'validation'])\n",
        "plt.grid()\n",
        "plt.show()"
      ],
      "metadata": {
        "id": "RgCPvxWOTGug",
        "colab": {
          "base_uri": "https://localhost:8080/",
          "height": 489
        },
        "outputId": "c92ed403-2e4a-4a2f-f81e-c246c46433e3"
      },
      "execution_count": null,
      "outputs": [
        {
          "output_type": "stream",
          "name": "stdout",
          "text": [
            "Final loss: 0.46343502402305603\n"
          ]
        },
        {
          "output_type": "display_data",
          "data": {
            "text/plain": [
              "<Figure size 640x480 with 1 Axes>"
            ],
            "image/png": "[encoded data removed]"
          },
          "metadata": {}
        }
      ]
    },
    {
      "cell_type": "code",
      "source": [
        "# Predict the class labels of the test data\n",
        "y_pred = model.predict(X_test)\n",
        "for i in range(len(y_pred)):\n",
        "  if y_pred[i] > 0.5:\n",
        "     y_pred[i] = 1\n",
        "  else:\n",
        "     y_pred[i] = 0\n",
        "\n",
        "# Display confusion matrix and classification report for the test data\n",
        "print('Classification Report:')\n",
        "print(classification_report(y_test, y_pred))\n",
        "print('Confusion Matrix:')\n",
        "print(confusion_matrix(y_test, y_pred))"
      ],
      "metadata": {
        "id": "d8hgl6ocTRZU",
        "colab": {
          "base_uri": "https://localhost:8080/"
        },
        "outputId": "17e172ef-1945-48e2-f693-f452db6916f9"
      },
      "execution_count": null,
      "outputs": [
        {
          "output_type": "stream",
          "name": "stdout",
          "text": [
            "469/469 [==============================] - 1s 2ms/step\n",
            "Classification Report:\n",
            "              precision    recall  f1-score   support\n",
            "\n",
            "         0.0       0.74      0.72      0.73      6953\n",
            "         1.0       0.77      0.78      0.78      8047\n",
            "\n",
            "    accuracy                           0.76     15000\n",
            "   macro avg       0.76      0.75      0.75     15000\n",
            "weighted avg       0.76      0.76      0.76     15000\n",
            "\n",
            "Confusion Matrix:\n",
            "[[5039 1914]\n",
            " [1737 6310]]\n"
          ]
        }
      ]
    },
    {
      "cell_type": "code",
      "source": [
        "# Split the data into training 56.25%, validation 18.75% and test 25% sets\n",
        "X_train, X_test, y_train, y_test = train_test_split(X, y, test_size = 0.25, random_state = 42)\n",
        "X_train, X_val, y_train, y_val   = train_test_split(X_train, y_train, test_size = 0.25, random_state = 42)\n",
        "\n",
        "# Print the shape of the training and test sets\n",
        "print(\"Training set shape:\", X_train.shape, y_train.shape)\n",
        "print(\"Test set shape:\", X_test.shape, y_test.shape)"
      ],
      "metadata": {
        "id": "uJZTsXgVQ1Qm",
        "colab": {
          "base_uri": "https://localhost:8080/"
        },
        "outputId": "fad915bb-84d2-483d-c6ce-9f69b9e9ce56"
      },
      "execution_count": null,
      "outputs": [
        {
          "output_type": "stream",
          "name": "stdout",
          "text": [
            "Training set shape: (337497, 28) (337497,)\n",
            "Test set shape: (149999, 28) (149999,)\n"
          ]
        }
      ]
    },
    {
      "cell_type": "code",
      "source": [
        "# Feature scaling: Standard Normalization\n",
        "\n",
        "# Create a StandardScaler object\n",
        "scaler = StandardScaler()\n",
        "\n",
        "# Fit the scaler on the training data and transform it\n",
        "X_train = scaler.fit_transform(X_train)\n",
        "# Transform the test data using the parameters learned from the training data\n",
        "X_test = scaler.transform(X_test)\n",
        "# Transform the validation data using the parameters learned from the training data\n",
        "X_val = scaler.transform(X_val)"
      ],
      "metadata": {
        "id": "-NQrvQinNupx"
      },
      "execution_count": null,
      "outputs": []
    },
    {
      "cell_type": "code",
      "source": [
        "# Model 10: using neural networks with 4 hidden layers using ReLU, with dropout, epochs = 50 and 25% split for testing and validation\n",
        "\n",
        "# Build the model\n",
        "model = keras.Sequential([\n",
        "    layers.Dense(300, activation='relu', input_shape=(28,)),\n",
        "    layers.Dropout(0.2),\n",
        "    layers.Dense(300, activation='relu'),\n",
        "    layers.Dropout(0.12),\n",
        "    layers.Dense(300, activation='relu'),\n",
        "    layers.Dropout(0.12),\n",
        "    layers.Dense(300, activation='relu'),\n",
        "    layers.Dropout(0.3),\n",
        "    layers.Dense(1, activation='sigmoid')\n",
        "])\n",
        "\n",
        "# Use early stopping as a regularization technique to avoid overfitting\n",
        "es = EarlyStopping(monitor = 'val_accuracy', mode = 'max', verbose = 1, patience = 10)\n",
        "mc = ModelCheckpoint('/content/gdrive/My Drive/best_model.h5', monitor = 'val_accuracy', mode = 'auto')\n",
        "\n",
        "# Compile the model\n",
        "model.compile(loss = 'binary_crossentropy', optimizer = 'adam', metrics = ['accuracy'])\n",
        "\n",
        "# Train the model on the training data\n",
        "history = model.fit(X_train, y_train, epochs = 50, batch_size = 2048, verbose = 1, validation_data = (X_val, y_val), callbacks = [es,mc])\n",
        "\n",
        "# Compute the training, validation, and testing accuracies of the classifier\n",
        "loss_train, accuracy_train = model.evaluate(X_train, y_train, verbose=2)\n",
        "loss_test, accuracy_test   = model.evaluate(X_test, y_test, verbose=2)\n",
        "loss_val, accuracy_val     = model.evaluate(X_val, y_val, verbose=2)\n",
        "\n",
        "print('Accuracy on train set:', accuracy_train)\n",
        "print('Accuracy on test set:', accuracy_test)\n",
        "print('Accuracy on validation set:', accuracy_val)"
      ],
      "metadata": {
        "id": "IfJG_ZIXRj5x",
        "colab": {
          "base_uri": "https://localhost:8080/"
        },
        "outputId": "20ca25d2-553b-49cd-92f6-87f29406c081"
      },
      "execution_count": null,
      "outputs": [
        {
          "output_type": "stream",
          "name": "stdout",
          "text": [
            "Epoch 1/50\n",
            "165/165 [==============================] - 21s 120ms/step - loss: 0.6151 - accuracy: 0.6575 - val_loss: 0.5713 - val_accuracy: 0.7026\n",
            "Epoch 2/50\n",
            "165/165 [==============================] - 20s 120ms/step - loss: 0.5714 - accuracy: 0.6996 - val_loss: 0.5480 - val_accuracy: 0.7172\n",
            "Epoch 3/50\n",
            "165/165 [==============================] - 21s 126ms/step - loss: 0.5544 - accuracy: 0.7120 - val_loss: 0.5366 - val_accuracy: 0.7261\n",
            "Epoch 4/50\n",
            "165/165 [==============================] - 20s 119ms/step - loss: 0.5438 - accuracy: 0.7206 - val_loss: 0.5289 - val_accuracy: 0.7315\n",
            "Epoch 5/50\n",
            "165/165 [==============================] - 21s 130ms/step - loss: 0.5357 - accuracy: 0.7263 - val_loss: 0.5230 - val_accuracy: 0.7355\n",
            "Epoch 6/50\n",
            "165/165 [==============================] - 20s 118ms/step - loss: 0.5290 - accuracy: 0.7313 - val_loss: 0.5179 - val_accuracy: 0.7378\n",
            "Epoch 7/50\n",
            "165/165 [==============================] - 21s 126ms/step - loss: 0.5248 - accuracy: 0.7345 - val_loss: 0.5154 - val_accuracy: 0.7403\n",
            "Epoch 8/50\n",
            "165/165 [==============================] - 20s 120ms/step - loss: 0.5203 - accuracy: 0.7363 - val_loss: 0.5121 - val_accuracy: 0.7414\n",
            "Epoch 9/50\n",
            "165/165 [==============================] - 19s 118ms/step - loss: 0.5172 - accuracy: 0.7386 - val_loss: 0.5103 - val_accuracy: 0.7434\n",
            "Epoch 10/50\n",
            "165/165 [==============================] - 21s 131ms/step - loss: 0.5135 - accuracy: 0.7413 - val_loss: 0.5081 - val_accuracy: 0.7435\n",
            "Epoch 11/50\n",
            "165/165 [==============================] - 19s 118ms/step - loss: 0.5109 - accuracy: 0.7431 - val_loss: 0.5053 - val_accuracy: 0.7462\n",
            "Epoch 12/50\n",
            "165/165 [==============================] - 21s 128ms/step - loss: 0.5085 - accuracy: 0.7442 - val_loss: 0.5048 - val_accuracy: 0.7472\n",
            "Epoch 13/50\n",
            "165/165 [==============================] - 20s 119ms/step - loss: 0.5066 - accuracy: 0.7457 - val_loss: 0.5051 - val_accuracy: 0.7462\n",
            "Epoch 14/50\n",
            "165/165 [==============================] - 20s 118ms/step - loss: 0.5046 - accuracy: 0.7476 - val_loss: 0.5034 - val_accuracy: 0.7475\n",
            "Epoch 15/50\n",
            "165/165 [==============================] - 21s 130ms/step - loss: 0.5024 - accuracy: 0.7483 - val_loss: 0.5031 - val_accuracy: 0.7483\n",
            "Epoch 16/50\n",
            "165/165 [==============================] - 20s 119ms/step - loss: 0.5004 - accuracy: 0.7506 - val_loss: 0.5015 - val_accuracy: 0.7494\n",
            "Epoch 17/50\n",
            "165/165 [==============================] - 22s 133ms/step - loss: 0.4982 - accuracy: 0.7517 - val_loss: 0.5009 - val_accuracy: 0.7490\n",
            "Epoch 18/50\n",
            "165/165 [==============================] - 19s 116ms/step - loss: 0.4970 - accuracy: 0.7522 - val_loss: 0.5007 - val_accuracy: 0.7484\n",
            "Epoch 19/50\n",
            "165/165 [==============================] - 20s 124ms/step - loss: 0.4944 - accuracy: 0.7535 - val_loss: 0.5010 - val_accuracy: 0.7493\n",
            "Epoch 20/50\n",
            "165/165 [==============================] - 20s 118ms/step - loss: 0.4939 - accuracy: 0.7533 - val_loss: 0.5002 - val_accuracy: 0.7490\n",
            "Epoch 21/50\n",
            "165/165 [==============================] - 19s 117ms/step - loss: 0.4918 - accuracy: 0.7555 - val_loss: 0.4994 - val_accuracy: 0.7507\n",
            "Epoch 22/50\n",
            "165/165 [==============================] - 21s 129ms/step - loss: 0.4908 - accuracy: 0.7556 - val_loss: 0.5004 - val_accuracy: 0.7499\n",
            "Epoch 23/50\n",
            "165/165 [==============================] - 20s 121ms/step - loss: 0.4894 - accuracy: 0.7565 - val_loss: 0.5010 - val_accuracy: 0.7495\n",
            "Epoch 24/50\n",
            "165/165 [==============================] - 21s 126ms/step - loss: 0.4875 - accuracy: 0.7579 - val_loss: 0.4995 - val_accuracy: 0.7519\n",
            "Epoch 25/50\n",
            "165/165 [==============================] - 19s 118ms/step - loss: 0.4865 - accuracy: 0.7586 - val_loss: 0.5005 - val_accuracy: 0.7504\n",
            "Epoch 26/50\n",
            "165/165 [==============================] - 21s 129ms/step - loss: 0.4848 - accuracy: 0.7595 - val_loss: 0.5004 - val_accuracy: 0.7516\n",
            "Epoch 27/50\n",
            "165/165 [==============================] - 20s 118ms/step - loss: 0.4837 - accuracy: 0.7604 - val_loss: 0.5012 - val_accuracy: 0.7512\n",
            "Epoch 28/50\n",
            "165/165 [==============================] - 21s 129ms/step - loss: 0.4819 - accuracy: 0.7609 - val_loss: 0.4995 - val_accuracy: 0.7508\n",
            "Epoch 29/50\n",
            "165/165 [==============================] - 19s 117ms/step - loss: 0.4818 - accuracy: 0.7616 - val_loss: 0.5005 - val_accuracy: 0.7504\n",
            "Epoch 30/50\n",
            "165/165 [==============================] - 21s 129ms/step - loss: 0.4802 - accuracy: 0.7630 - val_loss: 0.5009 - val_accuracy: 0.7505\n",
            "Epoch 31/50\n",
            "165/165 [==============================] - 19s 117ms/step - loss: 0.4789 - accuracy: 0.7634 - val_loss: 0.4997 - val_accuracy: 0.7514\n",
            "Epoch 32/50\n",
            "165/165 [==============================] - 20s 124ms/step - loss: 0.4784 - accuracy: 0.7633 - val_loss: 0.4997 - val_accuracy: 0.7511\n",
            "Epoch 33/50\n",
            "165/165 [==============================] - 19s 117ms/step - loss: 0.4768 - accuracy: 0.7642 - val_loss: 0.5004 - val_accuracy: 0.7524\n",
            "Epoch 34/50\n",
            "165/165 [==============================] - 21s 125ms/step - loss: 0.4755 - accuracy: 0.7654 - val_loss: 0.4994 - val_accuracy: 0.7520\n",
            "Epoch 35/50\n",
            "165/165 [==============================] - 19s 118ms/step - loss: 0.4747 - accuracy: 0.7656 - val_loss: 0.5002 - val_accuracy: 0.7513\n",
            "Epoch 36/50\n",
            "165/165 [==============================] - 21s 125ms/step - loss: 0.4738 - accuracy: 0.7673 - val_loss: 0.5042 - val_accuracy: 0.7525\n",
            "Epoch 37/50\n",
            "165/165 [==============================] - 19s 117ms/step - loss: 0.4732 - accuracy: 0.7665 - val_loss: 0.5018 - val_accuracy: 0.7520\n",
            "Epoch 38/50\n",
            "165/165 [==============================] - 20s 118ms/step - loss: 0.4713 - accuracy: 0.7682 - val_loss: 0.5027 - val_accuracy: 0.7497\n",
            "Epoch 39/50\n",
            "165/165 [==============================] - 20s 121ms/step - loss: 0.4707 - accuracy: 0.7679 - val_loss: 0.5008 - val_accuracy: 0.7498\n",
            "Epoch 40/50\n",
            "165/165 [==============================] - 19s 116ms/step - loss: 0.4698 - accuracy: 0.7687 - val_loss: 0.5020 - val_accuracy: 0.7502\n",
            "Epoch 41/50\n",
            "165/165 [==============================] - 21s 127ms/step - loss: 0.4680 - accuracy: 0.7700 - val_loss: 0.5015 - val_accuracy: 0.7516\n",
            "Epoch 42/50\n",
            "165/165 [==============================] - 19s 117ms/step - loss: 0.4679 - accuracy: 0.7701 - val_loss: 0.5027 - val_accuracy: 0.7511\n",
            "Epoch 43/50\n",
            "165/165 [==============================] - 21s 127ms/step - loss: 0.4672 - accuracy: 0.7705 - val_loss: 0.5047 - val_accuracy: 0.7509\n",
            "Epoch 44/50\n",
            "165/165 [==============================] - 19s 117ms/step - loss: 0.4662 - accuracy: 0.7716 - val_loss: 0.5039 - val_accuracy: 0.7504\n",
            "Epoch 45/50\n",
            "165/165 [==============================] - 21s 127ms/step - loss: 0.4652 - accuracy: 0.7716 - val_loss: 0.5027 - val_accuracy: 0.7506\n",
            "Epoch 46/50\n",
            "165/165 [==============================] - 19s 117ms/step - loss: 0.4642 - accuracy: 0.7725 - val_loss: 0.5057 - val_accuracy: 0.7508\n",
            "Epoch 46: early stopping\n",
            "10547/10547 - 20s - loss: 0.4161 - accuracy: 0.8001 - 20s/epoch - 2ms/step\n",
            "4688/4688 - 8s - loss: 0.5066 - accuracy: 0.7509 - 8s/epoch - 2ms/step\n",
            "3516/3516 - 7s - loss: 0.5057 - accuracy: 0.7508 - 7s/epoch - 2ms/step\n",
            "Accuracy on train set: 0.8001256585121155\n",
            "Accuracy on test set: 0.7509049773216248\n",
            "Accuracy on validation set: 0.7507822513580322\n"
          ]
        }
      ]
    },
    {
      "cell_type": "code",
      "source": [
        "# Visualize our neural network model\n",
        "from ann_visualizer.visualize import ann_viz\n",
        "ann_viz(model, title = \"Neural Network Model10\", view = True, filename = \"model10\")"
      ],
      "metadata": {
        "id": "-FVWLSMYR68t"
      },
      "execution_count": null,
      "outputs": []
    },
    {
      "cell_type": "code",
      "source": [
        "# Print the model summary\n",
        "model.summary()"
      ],
      "metadata": {
        "id": "KsDjlmvBR_Jo",
        "colab": {
          "base_uri": "https://localhost:8080/"
        },
        "outputId": "2e8ae759-29d4-49ae-be28-275bfe0c04b4"
      },
      "execution_count": null,
      "outputs": [
        {
          "output_type": "stream",
          "name": "stdout",
          "text": [
            "Model: \"sequential_3\"\n",
            "_________________________________________________________________\n",
            " Layer (type)                Output Shape              Param #   \n",
            "=================================================================\n",
            " dense_15 (Dense)            (None, 300)               8700      \n",
            "                                                                 \n",
            " dropout_12 (Dropout)        (None, 300)               0         \n",
            "                                                                 \n",
            " dense_16 (Dense)            (None, 300)               90300     \n",
            "                                                                 \n",
            " dropout_13 (Dropout)        (None, 300)               0         \n",
            "                                                                 \n",
            " dense_17 (Dense)            (None, 300)               90300     \n",
            "                                                                 \n",
            " dropout_14 (Dropout)        (None, 300)               0         \n",
            "                                                                 \n",
            " dense_18 (Dense)            (None, 300)               90300     \n",
            "                                                                 \n",
            " dropout_15 (Dropout)        (None, 300)               0         \n",
            "                                                                 \n",
            " dense_19 (Dense)            (None, 1)                 301       \n",
            "                                                                 \n",
            "=================================================================\n",
            "Total params: 279,901\n",
            "Trainable params: 279,901\n",
            "Non-trainable params: 0\n",
            "_________________________________________________________________\n"
          ]
        }
      ]
    },
    {
      "cell_type": "code",
      "source": [
        "# Plotting training and validation losses\n",
        "print(f\"Final loss: {history.history['loss'][-1]}\")\n",
        "plt.plot(history.history['loss'])\n",
        "plt.plot(history.history['val_loss'])\n",
        "plt.title('model loss')\n",
        "plt.ylabel('loss')\n",
        "plt.xlabel('epoch')\n",
        "plt.legend(['training', 'validation'])\n",
        "plt.grid()\n",
        "plt.show()"
      ],
      "metadata": {
        "id": "Vh9nsxvPTIRk",
        "colab": {
          "base_uri": "https://localhost:8080/",
          "height": 489
        },
        "outputId": "db27ea68-0827-4102-a2b3-a74e70a06258"
      },
      "execution_count": null,
      "outputs": [
        {
          "output_type": "stream",
          "name": "stdout",
          "text": [
            "Final loss: 0.4641629755496979\n"
          ]
        },
        {
          "output_type": "display_data",
          "data": {
            "text/plain": [
              "<Figure size 640x480 with 1 Axes>"
            ],
            "image/png": "[encoded data removed]"
          },
          "metadata": {}
        }
      ]
    },
    {
      "cell_type": "code",
      "source": [
        "# Predict the class labels of the test data\n",
        "y_pred = model.predict(X_test)\n",
        "for i in range(len(y_pred)):\n",
        "  if y_pred[i] > 0.5:\n",
        "     y_pred[i] = 1\n",
        "  else:\n",
        "     y_pred[i] = 0\n",
        "\n",
        "# Display confusion matrix and classification report for the test data\n",
        "print('Classification Report:')\n",
        "print(classification_report(y_test, y_pred))\n",
        "print('Confusion Matrix:')\n",
        "print(confusion_matrix(y_test, y_pred))"
      ],
      "metadata": {
        "id": "kDMtHku7TQZs",
        "colab": {
          "base_uri": "https://localhost:8080/"
        },
        "outputId": "a4d6f7a3-afe4-4650-e8a9-92fe57df3c1a"
      },
      "execution_count": null,
      "outputs": [
        {
          "output_type": "stream",
          "name": "stdout",
          "text": [
            "4688/4688 [==============================] - 11s 2ms/step\n",
            "Classification Report:\n",
            "              precision    recall  f1-score   support\n",
            "\n",
            "         0.0       0.74      0.72      0.73     70285\n",
            "         1.0       0.76      0.78      0.77     79714\n",
            "\n",
            "    accuracy                           0.75    149999\n",
            "   macro avg       0.75      0.75      0.75    149999\n",
            "weighted avg       0.75      0.75      0.75    149999\n",
            "\n",
            "Confusion Matrix:\n",
            "[[50666 19619]\n",
            " [17745 61969]]\n"
          ]
        }
      ]
    }
  ]
}